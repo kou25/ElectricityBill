{
  "nbformat": 4,
  "nbformat_minor": 0,
  "metadata": {
    "colab": {
      "name": "bill.ipynb",
      "provenance": [],
      "collapsed_sections": []
    },
    "kernelspec": {
      "name": "python3",
      "display_name": "Python 3"
    }
  },
  "cells": [
    {
      "cell_type": "code",
      "metadata": {
        "id": "q76P0L0HL2IV",
        "colab_type": "code",
        "colab": {}
      },
      "source": [
        "import numpy as np\n",
        "import matplotlib.pyplot as plt\n",
        "import pandas as pd\n",
        "import seaborn as sns"
      ],
      "execution_count": 0,
      "outputs": []
    },
    {
      "cell_type": "code",
      "metadata": {
        "id": "eY5oXJJvNIaI",
        "colab_type": "code",
        "colab": {}
      },
      "source": [
        "data1= pd.read_csv('historical_bill_data.csv')\n",
        "data=pd.read_csv('house_features.csv')"
      ],
      "execution_count": 0,
      "outputs": []
    },
    {
      "cell_type": "code",
      "metadata": {
        "id": "fqhu0ZJbYqtD",
        "colab_type": "code",
        "outputId": "ef4f21b4-7ca5-4dd1-e6bb-1fedca1d00f3",
        "colab": {
          "base_uri": "https://localhost:8080/",
          "height": 282
        }
      },
      "source": [
        "data.head()"
      ],
      "execution_count": 3,
      "outputs": [
        {
          "output_type": "execute_result",
          "data": {
            "text/html": [
              "<div>\n",
              "<style scoped>\n",
              "    .dataframe tbody tr th:only-of-type {\n",
              "        vertical-align: middle;\n",
              "    }\n",
              "\n",
              "    .dataframe tbody tr th {\n",
              "        vertical-align: top;\n",
              "    }\n",
              "\n",
              "    .dataframe thead th {\n",
              "        text-align: right;\n",
              "    }\n",
              "</style>\n",
              "<table border=\"1\" class=\"dataframe\">\n",
              "  <thead>\n",
              "    <tr style=\"text-align: right;\">\n",
              "      <th></th>\n",
              "      <th>CA Number</th>\n",
              "      <th>Survey Duration</th>\n",
              "      <th>Q-1_Name of the Apartment</th>\n",
              "      <th>Q_5_Floor No</th>\n",
              "      <th>Q-6_Does your bedroom has any of the following characteristics?</th>\n",
              "      <th>Q-9_Apartment Type_bhk</th>\n",
              "      <th>Q-10_adults</th>\n",
              "      <th>Q-10_Children</th>\n",
              "      <th>Q-15-No of Acs</th>\n",
              "      <th>Q-16_No of Refrigerators</th>\n",
              "      <th>Q-17_No of Geysers</th>\n",
              "      <th>Q-18_No of Fans</th>\n",
              "      <th>Q-18_No of Washing Machine</th>\n",
              "      <th>Total Residents</th>\n",
              "    </tr>\n",
              "  </thead>\n",
              "  <tbody>\n",
              "    <tr>\n",
              "      <th>0</th>\n",
              "      <td>55</td>\n",
              "      <td>338</td>\n",
              "      <td>Una</td>\n",
              "      <td>0</td>\n",
              "      <td>Southfacing</td>\n",
              "      <td>2</td>\n",
              "      <td>2</td>\n",
              "      <td>0</td>\n",
              "      <td>1.0</td>\n",
              "      <td>1</td>\n",
              "      <td>1.0</td>\n",
              "      <td>5</td>\n",
              "      <td>1.0</td>\n",
              "      <td>2</td>\n",
              "    </tr>\n",
              "    <tr>\n",
              "      <th>1</th>\n",
              "      <td>119</td>\n",
              "      <td>342</td>\n",
              "      <td>Anandlok</td>\n",
              "      <td>1</td>\n",
              "      <td>None</td>\n",
              "      <td>3</td>\n",
              "      <td>4</td>\n",
              "      <td>0</td>\n",
              "      <td>4.0</td>\n",
              "      <td>1</td>\n",
              "      <td>1.0</td>\n",
              "      <td>10</td>\n",
              "      <td>1.0</td>\n",
              "      <td>4</td>\n",
              "    </tr>\n",
              "    <tr>\n",
              "      <th>2</th>\n",
              "      <td>144</td>\n",
              "      <td>347</td>\n",
              "      <td>Una</td>\n",
              "      <td>2</td>\n",
              "      <td>None</td>\n",
              "      <td>2</td>\n",
              "      <td>2</td>\n",
              "      <td>1</td>\n",
              "      <td>1.0</td>\n",
              "      <td>1</td>\n",
              "      <td>1.0</td>\n",
              "      <td>6</td>\n",
              "      <td>1.0</td>\n",
              "      <td>3</td>\n",
              "    </tr>\n",
              "    <tr>\n",
              "      <th>3</th>\n",
              "      <td>151</td>\n",
              "      <td>353</td>\n",
              "      <td>Anandlok</td>\n",
              "      <td>2</td>\n",
              "      <td>None</td>\n",
              "      <td>3</td>\n",
              "      <td>3</td>\n",
              "      <td>0</td>\n",
              "      <td>4.0</td>\n",
              "      <td>2</td>\n",
              "      <td>2.0</td>\n",
              "      <td>6</td>\n",
              "      <td>2.0</td>\n",
              "      <td>3</td>\n",
              "    </tr>\n",
              "    <tr>\n",
              "      <th>4</th>\n",
              "      <td>53</td>\n",
              "      <td>357</td>\n",
              "      <td>Una</td>\n",
              "      <td>3</td>\n",
              "      <td>Southfacing</td>\n",
              "      <td>3</td>\n",
              "      <td>4</td>\n",
              "      <td>0</td>\n",
              "      <td>2.0</td>\n",
              "      <td>1</td>\n",
              "      <td>1.0</td>\n",
              "      <td>4</td>\n",
              "      <td>1.0</td>\n",
              "      <td>4</td>\n",
              "    </tr>\n",
              "  </tbody>\n",
              "</table>\n",
              "</div>"
            ],
            "text/plain": [
              "   CA Number  Survey Duration  ... Q-18_No of Washing Machine  Total Residents\n",
              "0         55              338  ...                        1.0                2\n",
              "1        119              342  ...                        1.0                4\n",
              "2        144              347  ...                        1.0                3\n",
              "3        151              353  ...                        2.0                3\n",
              "4         53              357  ...                        1.0                4\n",
              "\n",
              "[5 rows x 14 columns]"
            ]
          },
          "metadata": {
            "tags": []
          },
          "execution_count": 3
        }
      ]
    },
    {
      "cell_type": "code",
      "metadata": {
        "id": "JSL1pHd1YtAL",
        "colab_type": "code",
        "outputId": "3d1baffe-6d1f-4fbb-c4fc-18166155bcdb",
        "colab": {
          "base_uri": "https://localhost:8080/",
          "height": 232
        }
      },
      "source": [
        "data1.head()"
      ],
      "execution_count": 4,
      "outputs": [
        {
          "output_type": "execute_result",
          "data": {
            "text/html": [
              "<div>\n",
              "<style scoped>\n",
              "    .dataframe tbody tr th:only-of-type {\n",
              "        vertical-align: middle;\n",
              "    }\n",
              "\n",
              "    .dataframe tbody tr th {\n",
              "        vertical-align: top;\n",
              "    }\n",
              "\n",
              "    .dataframe thead th {\n",
              "        text-align: right;\n",
              "    }\n",
              "</style>\n",
              "<table border=\"1\" class=\"dataframe\">\n",
              "  <thead>\n",
              "    <tr style=\"text-align: right;\">\n",
              "      <th></th>\n",
              "      <th>CONTRACT_ACCOUNT</th>\n",
              "      <th>201701</th>\n",
              "      <th>201702</th>\n",
              "      <th>201703</th>\n",
              "      <th>201704</th>\n",
              "      <th>201705</th>\n",
              "      <th>201706</th>\n",
              "      <th>201707</th>\n",
              "      <th>201708</th>\n",
              "      <th>201709</th>\n",
              "      <th>201710</th>\n",
              "      <th>201711</th>\n",
              "      <th>201712</th>\n",
              "      <th>201801</th>\n",
              "      <th>201802</th>\n",
              "      <th>201803</th>\n",
              "      <th>201804</th>\n",
              "      <th>201805</th>\n",
              "      <th>201806</th>\n",
              "      <th>201807</th>\n",
              "      <th>201808</th>\n",
              "      <th>201809</th>\n",
              "      <th>201810</th>\n",
              "      <th>201811</th>\n",
              "      <th>201812</th>\n",
              "      <th>201901</th>\n",
              "      <th>Grand Total</th>\n",
              "    </tr>\n",
              "  </thead>\n",
              "  <tbody>\n",
              "    <tr>\n",
              "      <th>0</th>\n",
              "      <td>0</td>\n",
              "      <td>640.0</td>\n",
              "      <td>811.0</td>\n",
              "      <td>346.0</td>\n",
              "      <td>541.0</td>\n",
              "      <td>1228.0</td>\n",
              "      <td>1265.0</td>\n",
              "      <td>1079.0</td>\n",
              "      <td>1107.0</td>\n",
              "      <td>2043.0</td>\n",
              "      <td>966.0</td>\n",
              "      <td>823.0</td>\n",
              "      <td>432.0</td>\n",
              "      <td>726.0</td>\n",
              "      <td>802.0</td>\n",
              "      <td>433.0</td>\n",
              "      <td>599.0</td>\n",
              "      <td>1009.0</td>\n",
              "      <td>1147.0</td>\n",
              "      <td>1708.0</td>\n",
              "      <td>0.0</td>\n",
              "      <td>1227.0</td>\n",
              "      <td>736.0</td>\n",
              "      <td>541.0</td>\n",
              "      <td>444.0</td>\n",
              "      <td>845.0</td>\n",
              "      <td>21498</td>\n",
              "    </tr>\n",
              "    <tr>\n",
              "      <th>1</th>\n",
              "      <td>1</td>\n",
              "      <td>256.0</td>\n",
              "      <td>272.0</td>\n",
              "      <td>205.0</td>\n",
              "      <td>322.0</td>\n",
              "      <td>443.0</td>\n",
              "      <td>820.0</td>\n",
              "      <td>762.0</td>\n",
              "      <td>473.0</td>\n",
              "      <td>901.0</td>\n",
              "      <td>358.0</td>\n",
              "      <td>237.0</td>\n",
              "      <td>239.0</td>\n",
              "      <td>217.0</td>\n",
              "      <td>276.0</td>\n",
              "      <td>223.0</td>\n",
              "      <td>257.0</td>\n",
              "      <td>377.0</td>\n",
              "      <td>686.0</td>\n",
              "      <td>1268.0</td>\n",
              "      <td>613.0</td>\n",
              "      <td>428.0</td>\n",
              "      <td>242.0</td>\n",
              "      <td>195.0</td>\n",
              "      <td>159.0</td>\n",
              "      <td>251.0</td>\n",
              "      <td>10480</td>\n",
              "    </tr>\n",
              "    <tr>\n",
              "      <th>2</th>\n",
              "      <td>2</td>\n",
              "      <td>510.0</td>\n",
              "      <td>727.0</td>\n",
              "      <td>538.0</td>\n",
              "      <td>931.0</td>\n",
              "      <td>1506.0</td>\n",
              "      <td>1463.0</td>\n",
              "      <td>1685.0</td>\n",
              "      <td>1386.0</td>\n",
              "      <td>2580.0</td>\n",
              "      <td>1214.0</td>\n",
              "      <td>566.0</td>\n",
              "      <td>318.0</td>\n",
              "      <td>345.0</td>\n",
              "      <td>246.0</td>\n",
              "      <td>356.0</td>\n",
              "      <td>637.0</td>\n",
              "      <td>1033.0</td>\n",
              "      <td>1312.0</td>\n",
              "      <td>2000.0</td>\n",
              "      <td>835.0</td>\n",
              "      <td>1022.0</td>\n",
              "      <td>767.0</td>\n",
              "      <td>371.0</td>\n",
              "      <td>287.0</td>\n",
              "      <td>439.0</td>\n",
              "      <td>23074</td>\n",
              "    </tr>\n",
              "    <tr>\n",
              "      <th>3</th>\n",
              "      <td>3</td>\n",
              "      <td>307.0</td>\n",
              "      <td>339.0</td>\n",
              "      <td>373.0</td>\n",
              "      <td>624.0</td>\n",
              "      <td>1297.0</td>\n",
              "      <td>1075.0</td>\n",
              "      <td>33.0</td>\n",
              "      <td>89.0</td>\n",
              "      <td>752.0</td>\n",
              "      <td>330.0</td>\n",
              "      <td>287.0</td>\n",
              "      <td>241.0</td>\n",
              "      <td>291.0</td>\n",
              "      <td>269.0</td>\n",
              "      <td>263.0</td>\n",
              "      <td>310.0</td>\n",
              "      <td>458.0</td>\n",
              "      <td>922.0</td>\n",
              "      <td>1321.0</td>\n",
              "      <td>547.0</td>\n",
              "      <td>498.0</td>\n",
              "      <td>344.0</td>\n",
              "      <td>221.0</td>\n",
              "      <td>228.0</td>\n",
              "      <td>441.0</td>\n",
              "      <td>11860</td>\n",
              "    </tr>\n",
              "    <tr>\n",
              "      <th>4</th>\n",
              "      <td>4</td>\n",
              "      <td>403.0</td>\n",
              "      <td>393.0</td>\n",
              "      <td>267.0</td>\n",
              "      <td>317.0</td>\n",
              "      <td>721.0</td>\n",
              "      <td>683.0</td>\n",
              "      <td>510.0</td>\n",
              "      <td>75.0</td>\n",
              "      <td>897.0</td>\n",
              "      <td>495.0</td>\n",
              "      <td>247.0</td>\n",
              "      <td>364.0</td>\n",
              "      <td>663.0</td>\n",
              "      <td>554.0</td>\n",
              "      <td>360.0</td>\n",
              "      <td>285.0</td>\n",
              "      <td>578.0</td>\n",
              "      <td>1027.0</td>\n",
              "      <td>1253.0</td>\n",
              "      <td>539.0</td>\n",
              "      <td>517.0</td>\n",
              "      <td>273.0</td>\n",
              "      <td>230.0</td>\n",
              "      <td>275.0</td>\n",
              "      <td>437.0</td>\n",
              "      <td>12363</td>\n",
              "    </tr>\n",
              "  </tbody>\n",
              "</table>\n",
              "</div>"
            ],
            "text/plain": [
              "   CONTRACT_ACCOUNT  201701  201702  ...  201812  201901  Grand Total\n",
              "0                 0   640.0   811.0  ...   444.0   845.0        21498\n",
              "1                 1   256.0   272.0  ...   159.0   251.0        10480\n",
              "2                 2   510.0   727.0  ...   287.0   439.0        23074\n",
              "3                 3   307.0   339.0  ...   228.0   441.0        11860\n",
              "4                 4   403.0   393.0  ...   275.0   437.0        12363\n",
              "\n",
              "[5 rows x 27 columns]"
            ]
          },
          "metadata": {
            "tags": []
          },
          "execution_count": 4
        }
      ]
    },
    {
      "cell_type": "code",
      "metadata": {
        "id": "KJFkjsBaY42p",
        "colab_type": "code",
        "outputId": "e2d17045-108c-4c22-bfce-0ddc9ff35d3d",
        "colab": {
          "base_uri": "https://localhost:8080/",
          "height": 351
        }
      },
      "source": [
        "data.info()"
      ],
      "execution_count": 5,
      "outputs": [
        {
          "output_type": "stream",
          "text": [
            "<class 'pandas.core.frame.DataFrame'>\n",
            "RangeIndex: 162 entries, 0 to 161\n",
            "Data columns (total 14 columns):\n",
            "CA Number                                                          162 non-null int64\n",
            "Survey Duration                                                    162 non-null int64\n",
            "Q-1_Name of the Apartment                                          162 non-null object\n",
            "Q_5_Floor No                                                       162 non-null int64\n",
            "Q-6_Does your bedroom has any of the following characteristics?    162 non-null object\n",
            "Q-9_Apartment Type_bhk                                             162 non-null int64\n",
            "Q-10_adults                                                        162 non-null int64\n",
            "Q-10_Children                                                      162 non-null int64\n",
            "Q-15-No of Acs                                                     156 non-null float64\n",
            "Q-16_No of Refrigerators                                           162 non-null int64\n",
            "Q-17_No of Geysers                                                 159 non-null float64\n",
            "Q-18_No of Fans                                                    162 non-null int64\n",
            "Q-18_No of Washing Machine                                         153 non-null float64\n",
            "Total Residents                                                    162 non-null int64\n",
            "dtypes: float64(3), int64(9), object(2)\n",
            "memory usage: 17.8+ KB\n"
          ],
          "name": "stdout"
        }
      ]
    },
    {
      "cell_type": "markdown",
      "metadata": {
        "id": "bBCShXYOIc-D",
        "colab_type": "text"
      },
      "source": [
        "Cheacking if any null value is present or not.\n"
      ]
    },
    {
      "cell_type": "code",
      "metadata": {
        "id": "yJtnLOTdbaGx",
        "colab_type": "code",
        "outputId": "b6343b0b-94df-44e4-adb0-ed1000a2faf0",
        "colab": {
          "base_uri": "https://localhost:8080/",
          "height": 281
        }
      },
      "source": [
        "data.isnull().sum()"
      ],
      "execution_count": 6,
      "outputs": [
        {
          "output_type": "execute_result",
          "data": {
            "text/plain": [
              "CA Number                                                          0\n",
              "Survey Duration                                                    0\n",
              "Q-1_Name of the Apartment                                          0\n",
              "Q_5_Floor No                                                       0\n",
              "Q-6_Does your bedroom has any of the following characteristics?    0\n",
              "Q-9_Apartment Type_bhk                                             0\n",
              "Q-10_adults                                                        0\n",
              "Q-10_Children                                                      0\n",
              "Q-15-No of Acs                                                     6\n",
              "Q-16_No of Refrigerators                                           0\n",
              "Q-17_No of Geysers                                                 3\n",
              "Q-18_No of Fans                                                    0\n",
              "Q-18_No of Washing Machine                                         9\n",
              "Total Residents                                                    0\n",
              "dtype: int64"
            ]
          },
          "metadata": {
            "tags": []
          },
          "execution_count": 6
        }
      ]
    },
    {
      "cell_type": "code",
      "metadata": {
        "id": "mqUUYjHgfFsH",
        "colab_type": "code",
        "outputId": "7b2f7478-0c38-42ef-b4da-cc7573bc7dfb",
        "colab": {
          "base_uri": "https://localhost:8080/",
          "height": 281
        }
      },
      "source": [
        "round(data.isnull().sum()/len(data)*100,2)"
      ],
      "execution_count": 7,
      "outputs": [
        {
          "output_type": "execute_result",
          "data": {
            "text/plain": [
              "CA Number                                                          0.00\n",
              "Survey Duration                                                    0.00\n",
              "Q-1_Name of the Apartment                                          0.00\n",
              "Q_5_Floor No                                                       0.00\n",
              "Q-6_Does your bedroom has any of the following characteristics?    0.00\n",
              "Q-9_Apartment Type_bhk                                             0.00\n",
              "Q-10_adults                                                        0.00\n",
              "Q-10_Children                                                      0.00\n",
              "Q-15-No of Acs                                                     3.70\n",
              "Q-16_No of Refrigerators                                           0.00\n",
              "Q-17_No of Geysers                                                 1.85\n",
              "Q-18_No of Fans                                                    0.00\n",
              "Q-18_No of Washing Machine                                         5.56\n",
              "Total Residents                                                    0.00\n",
              "dtype: float64"
            ]
          },
          "metadata": {
            "tags": []
          },
          "execution_count": 7
        }
      ]
    },
    {
      "cell_type": "code",
      "metadata": {
        "id": "dLagROS7jKd5",
        "colab_type": "code",
        "outputId": "365b8073-fd51-4d2b-9369-b8ae7567d34c",
        "colab": {
          "base_uri": "https://localhost:8080/",
          "height": 34
        }
      },
      "source": [
        "data.shape"
      ],
      "execution_count": 8,
      "outputs": [
        {
          "output_type": "execute_result",
          "data": {
            "text/plain": [
              "(162, 14)"
            ]
          },
          "metadata": {
            "tags": []
          },
          "execution_count": 8
        }
      ]
    },
    {
      "cell_type": "markdown",
      "metadata": {
        "id": "k965LwjSI6Z_",
        "colab_type": "text"
      },
      "source": [
        "Dealing with the null values"
      ]
    },
    {
      "cell_type": "code",
      "metadata": {
        "id": "dmbK4towf-ZJ",
        "colab_type": "code",
        "colab": {}
      },
      "source": [
        "data['Q-15-No of Acs'] = data['Q-15-No of Acs'].replace(np.nan, data['Q-15-No of Acs'].mean())\n",
        "data['Q-17_No of Geysers'] = data['Q-17_No of Geysers'].replace(np.nan, data['Q-17_No of Geysers'].mean())\n",
        "data['Q-18_No of Washing Machine'] = data['Q-18_No of Washing Machine'].replace(np.nan, data['Q-18_No of Washing Machine'].mean())"
      ],
      "execution_count": 0,
      "outputs": []
    },
    {
      "cell_type": "code",
      "metadata": {
        "id": "Yu6zWzBOjOYV",
        "colab_type": "code",
        "outputId": "188dd469-ee23-489d-e170-73adb1e83a57",
        "colab": {
          "base_uri": "https://localhost:8080/",
          "height": 34
        }
      },
      "source": [
        "data.shape"
      ],
      "execution_count": 10,
      "outputs": [
        {
          "output_type": "execute_result",
          "data": {
            "text/plain": [
              "(162, 14)"
            ]
          },
          "metadata": {
            "tags": []
          },
          "execution_count": 10
        }
      ]
    },
    {
      "cell_type": "code",
      "metadata": {
        "id": "ZZGVqeohgbOE",
        "colab_type": "code",
        "outputId": "ef5df188-d905-4da6-cc4e-3fb68edc58b8",
        "colab": {
          "base_uri": "https://localhost:8080/",
          "height": 281
        }
      },
      "source": [
        "data.isnull().sum()"
      ],
      "execution_count": 11,
      "outputs": [
        {
          "output_type": "execute_result",
          "data": {
            "text/plain": [
              "CA Number                                                          0\n",
              "Survey Duration                                                    0\n",
              "Q-1_Name of the Apartment                                          0\n",
              "Q_5_Floor No                                                       0\n",
              "Q-6_Does your bedroom has any of the following characteristics?    0\n",
              "Q-9_Apartment Type_bhk                                             0\n",
              "Q-10_adults                                                        0\n",
              "Q-10_Children                                                      0\n",
              "Q-15-No of Acs                                                     0\n",
              "Q-16_No of Refrigerators                                           0\n",
              "Q-17_No of Geysers                                                 0\n",
              "Q-18_No of Fans                                                    0\n",
              "Q-18_No of Washing Machine                                         0\n",
              "Total Residents                                                    0\n",
              "dtype: int64"
            ]
          },
          "metadata": {
            "tags": []
          },
          "execution_count": 11
        }
      ]
    },
    {
      "cell_type": "code",
      "metadata": {
        "id": "m0T0CzD_hQlO",
        "colab_type": "code",
        "outputId": "8cdf535b-d049-48b5-b7bb-c1c1b164ef41",
        "colab": {
          "base_uri": "https://localhost:8080/",
          "height": 580
        }
      },
      "source": [
        "data1.info()"
      ],
      "execution_count": 12,
      "outputs": [
        {
          "output_type": "stream",
          "text": [
            "<class 'pandas.core.frame.DataFrame'>\n",
            "RangeIndex: 181 entries, 0 to 180\n",
            "Data columns (total 27 columns):\n",
            "CONTRACT_ACCOUNT    181 non-null int64\n",
            "201701              173 non-null float64\n",
            "201702              173 non-null float64\n",
            "201703              173 non-null float64\n",
            "201704              173 non-null float64\n",
            "201705              172 non-null float64\n",
            "201706              174 non-null float64\n",
            "201707              174 non-null float64\n",
            "201708              174 non-null float64\n",
            "201709              174 non-null float64\n",
            "201710              173 non-null float64\n",
            "201711              174 non-null float64\n",
            "201712              174 non-null float64\n",
            "201801              173 non-null float64\n",
            "201802              175 non-null float64\n",
            "201803              175 non-null float64\n",
            "201804              175 non-null float64\n",
            "201805              175 non-null float64\n",
            "201806              177 non-null float64\n",
            "201807              177 non-null float64\n",
            "201808              177 non-null float64\n",
            "201809              177 non-null float64\n",
            "201810              180 non-null float64\n",
            "201811              180 non-null float64\n",
            "201812              180 non-null float64\n",
            "201901              180 non-null float64\n",
            "Grand Total         181 non-null int64\n",
            "dtypes: float64(25), int64(2)\n",
            "memory usage: 38.3 KB\n"
          ],
          "name": "stdout"
        }
      ]
    },
    {
      "cell_type": "code",
      "metadata": {
        "id": "BE1QJ3Amh91M",
        "colab_type": "code",
        "outputId": "44c1f103-a4da-40ac-9bd8-510248680387",
        "colab": {
          "base_uri": "https://localhost:8080/",
          "height": 510
        }
      },
      "source": [
        "data1.isnull().sum()"
      ],
      "execution_count": 13,
      "outputs": [
        {
          "output_type": "execute_result",
          "data": {
            "text/plain": [
              "CONTRACT_ACCOUNT    0\n",
              "201701              8\n",
              "201702              8\n",
              "201703              8\n",
              "201704              8\n",
              "201705              9\n",
              "201706              7\n",
              "201707              7\n",
              "201708              7\n",
              "201709              7\n",
              "201710              8\n",
              "201711              7\n",
              "201712              7\n",
              "201801              8\n",
              "201802              6\n",
              "201803              6\n",
              "201804              6\n",
              "201805              6\n",
              "201806              4\n",
              "201807              4\n",
              "201808              4\n",
              "201809              4\n",
              "201810              1\n",
              "201811              1\n",
              "201812              1\n",
              "201901              1\n",
              "Grand Total         0\n",
              "dtype: int64"
            ]
          },
          "metadata": {
            "tags": []
          },
          "execution_count": 13
        }
      ]
    },
    {
      "cell_type": "code",
      "metadata": {
        "id": "j9StvC9liIM_",
        "colab_type": "code",
        "outputId": "69a42203-1751-45af-ec6c-35d3ec431f18",
        "colab": {
          "base_uri": "https://localhost:8080/",
          "height": 34
        }
      },
      "source": [
        "data1.shape"
      ],
      "execution_count": 14,
      "outputs": [
        {
          "output_type": "execute_result",
          "data": {
            "text/plain": [
              "(181, 27)"
            ]
          },
          "metadata": {
            "tags": []
          },
          "execution_count": 14
        }
      ]
    },
    {
      "cell_type": "code",
      "metadata": {
        "id": "A1B-LQ3fivpW",
        "colab_type": "code",
        "outputId": "787c66fb-357d-4c75-d998-522a6282fc0c",
        "colab": {
          "base_uri": "https://localhost:8080/",
          "height": 510
        }
      },
      "source": [
        "round(data1.isnull().sum()/len(data1)*100,2)"
      ],
      "execution_count": 15,
      "outputs": [
        {
          "output_type": "execute_result",
          "data": {
            "text/plain": [
              "CONTRACT_ACCOUNT    0.00\n",
              "201701              4.42\n",
              "201702              4.42\n",
              "201703              4.42\n",
              "201704              4.42\n",
              "201705              4.97\n",
              "201706              3.87\n",
              "201707              3.87\n",
              "201708              3.87\n",
              "201709              3.87\n",
              "201710              4.42\n",
              "201711              3.87\n",
              "201712              3.87\n",
              "201801              4.42\n",
              "201802              3.31\n",
              "201803              3.31\n",
              "201804              3.31\n",
              "201805              3.31\n",
              "201806              2.21\n",
              "201807              2.21\n",
              "201808              2.21\n",
              "201809              2.21\n",
              "201810              0.55\n",
              "201811              0.55\n",
              "201812              0.55\n",
              "201901              0.55\n",
              "Grand Total         0.00\n",
              "dtype: float64"
            ]
          },
          "metadata": {
            "tags": []
          },
          "execution_count": 15
        }
      ]
    },
    {
      "cell_type": "code",
      "metadata": {
        "id": "kaazyEZkiYzn",
        "colab_type": "code",
        "colab": {}
      },
      "source": [
        "data_new=data1.dropna()"
      ],
      "execution_count": 0,
      "outputs": []
    },
    {
      "cell_type": "code",
      "metadata": {
        "id": "koUcKC05iajU",
        "colab_type": "code",
        "outputId": "51c3dc60-4181-48da-bd68-625111f2636e",
        "colab": {
          "base_uri": "https://localhost:8080/",
          "height": 510
        }
      },
      "source": [
        "data_new.isnull().sum()"
      ],
      "execution_count": 17,
      "outputs": [
        {
          "output_type": "execute_result",
          "data": {
            "text/plain": [
              "CONTRACT_ACCOUNT    0\n",
              "201701              0\n",
              "201702              0\n",
              "201703              0\n",
              "201704              0\n",
              "201705              0\n",
              "201706              0\n",
              "201707              0\n",
              "201708              0\n",
              "201709              0\n",
              "201710              0\n",
              "201711              0\n",
              "201712              0\n",
              "201801              0\n",
              "201802              0\n",
              "201803              0\n",
              "201804              0\n",
              "201805              0\n",
              "201806              0\n",
              "201807              0\n",
              "201808              0\n",
              "201809              0\n",
              "201810              0\n",
              "201811              0\n",
              "201812              0\n",
              "201901              0\n",
              "Grand Total         0\n",
              "dtype: int64"
            ]
          },
          "metadata": {
            "tags": []
          },
          "execution_count": 17
        }
      ]
    },
    {
      "cell_type": "code",
      "metadata": {
        "id": "kXcvtHqSid9K",
        "colab_type": "code",
        "outputId": "010940fc-185b-4c7c-ed80-6de07f6e0b8b",
        "colab": {
          "base_uri": "https://localhost:8080/",
          "height": 34
        }
      },
      "source": [
        "data_new.shape"
      ],
      "execution_count": 18,
      "outputs": [
        {
          "output_type": "execute_result",
          "data": {
            "text/plain": [
              "(170, 27)"
            ]
          },
          "metadata": {
            "tags": []
          },
          "execution_count": 18
        }
      ]
    },
    {
      "cell_type": "markdown",
      "metadata": {
        "id": "Y92t4ZE9JFhy",
        "colab_type": "text"
      },
      "source": [
        "Finding the types of apartments"
      ]
    },
    {
      "cell_type": "code",
      "metadata": {
        "id": "ckFxuCs5jnw8",
        "colab_type": "code",
        "outputId": "3c9aa480-b638-4db3-b7e4-033c548f4d73",
        "colab": {
          "base_uri": "https://localhost:8080/",
          "height": 34
        }
      },
      "source": [
        "data['Q-1_Name of the Apartment'].unique()"
      ],
      "execution_count": 19,
      "outputs": [
        {
          "output_type": "execute_result",
          "data": {
            "text/plain": [
              "array(['Una', 'Anandlok'], dtype=object)"
            ]
          },
          "metadata": {
            "tags": []
          },
          "execution_count": 19
        }
      ]
    },
    {
      "cell_type": "markdown",
      "metadata": {
        "id": "fGExPg9SJNp6",
        "colab_type": "text"
      },
      "source": [
        "number of aparment in datasets"
      ]
    },
    {
      "cell_type": "code",
      "metadata": {
        "id": "IXHUc_ozkNWU",
        "colab_type": "code",
        "outputId": "ad21d70d-0cb5-4061-eb48-4aed9d7ac9ba",
        "colab": {
          "base_uri": "https://localhost:8080/",
          "height": 70
        }
      },
      "source": [
        "count=data['Q-1_Name of the Apartment'].value_counts()\n",
        "count"
      ],
      "execution_count": 20,
      "outputs": [
        {
          "output_type": "execute_result",
          "data": {
            "text/plain": [
              "Anandlok    90\n",
              "Una         72\n",
              "Name: Q-1_Name of the Apartment, dtype: int64"
            ]
          },
          "metadata": {
            "tags": []
          },
          "execution_count": 20
        }
      ]
    },
    {
      "cell_type": "code",
      "metadata": {
        "id": "U9jeY7-0kxH-",
        "colab_type": "code",
        "outputId": "de928933-4370-4df7-9563-8b4f74824b53",
        "colab": {
          "base_uri": "https://localhost:8080/",
          "height": 338
        }
      },
      "source": [
        "plt.figure(figsize=(10,5))\n",
        "sns.barplot(count.index, count.values)"
      ],
      "execution_count": 21,
      "outputs": [
        {
          "output_type": "execute_result",
          "data": {
            "text/plain": [
              "<matplotlib.axes._subplots.AxesSubplot at 0x7f24b9325c50>"
            ]
          },
          "metadata": {
            "tags": []
          },
          "execution_count": 21
        },
        {
          "output_type": "display_data",
          "data": {
            "image/png": "[encoded data removed]",
            "text/plain": [
              "<Figure size 720x360 with 1 Axes>"
            ]
          },
          "metadata": {
            "tags": []
          }
        }
      ]
    },
    {
      "cell_type": "markdown",
      "metadata": {
        "id": "I-91cRcsJ5ur",
        "colab_type": "text"
      },
      "source": [
        "find types of floor in apartments"
      ]
    },
    {
      "cell_type": "code",
      "metadata": {
        "id": "w-L5itjYlA8z",
        "colab_type": "code",
        "outputId": "14af2ede-6efc-4a21-b251-5ba92acadc45",
        "colab": {
          "base_uri": "https://localhost:8080/",
          "height": 34
        }
      },
      "source": [
        "data['Q_5_Floor No'].unique()"
      ],
      "execution_count": 22,
      "outputs": [
        {
          "output_type": "execute_result",
          "data": {
            "text/plain": [
              "array([0, 1, 2, 3, 6, 5, 4, 7])"
            ]
          },
          "metadata": {
            "tags": []
          },
          "execution_count": 22
        }
      ]
    },
    {
      "cell_type": "markdown",
      "metadata": {
        "id": "MJmrKdrjKQzZ",
        "colab_type": "text"
      },
      "source": [
        "Total number of resident in each floor"
      ]
    },
    {
      "cell_type": "code",
      "metadata": {
        "id": "INDD-ElulncJ",
        "colab_type": "code",
        "outputId": "e236ec72-45f7-4e38-c29e-d9f82248c7b3",
        "colab": {
          "base_uri": "https://localhost:8080/",
          "height": 175
        }
      },
      "source": [
        "count=data['Q_5_Floor No'].value_counts()\n",
        "count"
      ],
      "execution_count": 23,
      "outputs": [
        {
          "output_type": "execute_result",
          "data": {
            "text/plain": [
              "2    45\n",
              "1    38\n",
              "0    27\n",
              "3    18\n",
              "6    11\n",
              "5    10\n",
              "4     9\n",
              "7     4\n",
              "Name: Q_5_Floor No, dtype: int64"
            ]
          },
          "metadata": {
            "tags": []
          },
          "execution_count": 23
        }
      ]
    },
    {
      "cell_type": "code",
      "metadata": {
        "id": "5YWh054ol0HU",
        "colab_type": "code",
        "outputId": "ca0f7c27-1496-4235-9bed-6b041702926c",
        "colab": {
          "base_uri": "https://localhost:8080/",
          "height": 338
        }
      },
      "source": [
        "plt.figure(figsize=(10,5))\n",
        "sns.barplot(count.index, count.values)"
      ],
      "execution_count": 24,
      "outputs": [
        {
          "output_type": "execute_result",
          "data": {
            "text/plain": [
              "<matplotlib.axes._subplots.AxesSubplot at 0x7f24cd5cb550>"
            ]
          },
          "metadata": {
            "tags": []
          },
          "execution_count": 24
        },
        {
          "output_type": "display_data",
          "data": {
            "image/png": "[encoded data removed]",
            "text/plain": [
              "<Figure size 720x360 with 1 Axes>"
            ]
          },
          "metadata": {
            "tags": []
          }
        }
      ]
    },
    {
      "cell_type": "markdown",
      "metadata": {
        "id": "OPd1VmsTKg_W",
        "colab_type": "text"
      },
      "source": [
        "Total resident in each apartments"
      ]
    },
    {
      "cell_type": "code",
      "metadata": {
        "id": "wMMO2I01l69x",
        "colab_type": "code",
        "outputId": "59d39961-449f-47f2-c9e1-07cc729f5f7e",
        "colab": {
          "base_uri": "https://localhost:8080/",
          "height": 497
        }
      },
      "source": [
        "plt.figure(figsize=(10,8))\n",
        "sns.countplot(y='Total Residents',hue='Q-1_Name of the Apartment',data=data)\n",
        "plt.show()"
      ],
      "execution_count": 25,
      "outputs": [
        {
          "output_type": "display_data",
          "data": {
            "image/png": "[encoded data removed]",
            "text/plain": [
              "<Figure size 720x576 with 1 Axes>"
            ]
          },
          "metadata": {
            "tags": []
          }
        }
      ]
    },
    {
      "cell_type": "markdown",
      "metadata": {
        "id": "qlFkdNM6K3Sn",
        "colab_type": "text"
      },
      "source": [
        "Types of bedroom"
      ]
    },
    {
      "cell_type": "code",
      "metadata": {
        "id": "ZuoChr1FmYdt",
        "colab_type": "code",
        "outputId": "b001fe0f-66a4-4258-a805-80105b1597a3",
        "colab": {
          "base_uri": "https://localhost:8080/",
          "height": 70
        }
      },
      "source": [
        "count=data['Q-6_Does your bedroom has any of the following characteristics?'].value_counts()\n",
        "count"
      ],
      "execution_count": 26,
      "outputs": [
        {
          "output_type": "execute_result",
          "data": {
            "text/plain": [
              "Southfacing    102\n",
              "None            60\n",
              "Name: Q-6_Does your bedroom has any of the following characteristics?, dtype: int64"
            ]
          },
          "metadata": {
            "tags": []
          },
          "execution_count": 26
        }
      ]
    },
    {
      "cell_type": "code",
      "metadata": {
        "id": "CFD7f_nCnUVK",
        "colab_type": "code",
        "outputId": "3444b18c-786a-4859-ae55-5f972c23b1a9",
        "colab": {
          "base_uri": "https://localhost:8080/",
          "height": 338
        }
      },
      "source": [
        "plt.figure(figsize=(5,5))\n",
        "sns.barplot(count.index, count.values)"
      ],
      "execution_count": 27,
      "outputs": [
        {
          "output_type": "execute_result",
          "data": {
            "text/plain": [
              "<matplotlib.axes._subplots.AxesSubplot at 0x7f24b9351860>"
            ]
          },
          "metadata": {
            "tags": []
          },
          "execution_count": 27
        },
        {
          "output_type": "display_data",
          "data": {
            "image/png": "[encoded data removed]",
            "text/plain": [
              "<Figure size 360x360 with 1 Axes>"
            ]
          },
          "metadata": {
            "tags": []
          }
        }
      ]
    },
    {
      "cell_type": "code",
      "metadata": {
        "id": "bn_zzmKlncmc",
        "colab_type": "code",
        "outputId": "35f8216f-ea83-4496-a601-0440a46c9780",
        "colab": {
          "base_uri": "https://localhost:8080/",
          "height": 361
        }
      },
      "source": [
        "plt.figure(figsize=(5,5))\n",
        "sns.countplot(y='Q-6_Does your bedroom has any of the following characteristics?',hue='Q-1_Name of the Apartment',data=data)\n",
        "plt.show()"
      ],
      "execution_count": 28,
      "outputs": [
        {
          "output_type": "display_data",
          "data": {
            "image/png": "[encoded data removed]",
            "text/plain": [
              "<Figure size 360x360 with 1 Axes>"
            ]
          },
          "metadata": {
            "tags": []
          }
        }
      ]
    },
    {
      "cell_type": "code",
      "metadata": {
        "id": "qD9OlWOA6Fzu",
        "colab_type": "code",
        "colab": {
          "base_uri": "https://localhost:8080/",
          "height": 497
        },
        "outputId": "be31aa9e-95b1-458a-e2fb-16915341917c"
      },
      "source": [
        "plt.figure(figsize=(10,8))\n",
        "sns.countplot(y='Q-9_Apartment Type_bhk',hue='Q-1_Name of the Apartment',data=data)\n",
        "plt.show()"
      ],
      "execution_count": 29,
      "outputs": [
        {
          "output_type": "display_data",
          "data": {
            "image/png": "[encoded data removed]",
            "text/plain": [
              "<Figure size 720x576 with 1 Axes>"
            ]
          },
          "metadata": {
            "tags": []
          }
        }
      ]
    },
    {
      "cell_type": "code",
      "metadata": {
        "id": "Q0Z4rPa4_sLn",
        "colab_type": "code",
        "colab": {
          "base_uri": "https://localhost:8080/",
          "height": 575
        },
        "outputId": "6468bcdc-6f01-4a44-c68e-02c43e782914"
      },
      "source": [
        "plt.figure(figsize=(10,10))\n",
        "temp_series = data['Q-9_Apartment Type_bhk'].value_counts()\n",
        "sizes = (np.array((temp_series / temp_series.sum())*100))\n",
        "labels = (np.array(temp_series.index))\n",
        "plt.pie(sizes, labels=labels, \n",
        "        autopct='%1.1f%%', startangle=200)\n",
        "plt.show()"
      ],
      "execution_count": 30,
      "outputs": [
        {
          "output_type": "display_data",
          "data": {
            "image/png": "[encoded data removed]",
            "text/plain": [
              "<Figure size 720x720 with 1 Axes>"
            ]
          },
          "metadata": {
            "tags": []
          }
        }
      ]
    },
    {
      "cell_type": "markdown",
      "metadata": {
        "id": "uWyBOrY0LHIF",
        "colab_type": "text"
      },
      "source": [
        "changing catagorical value to numerical for my convineane. We can even use OnHotEncoder instead of this."
      ]
    },
    {
      "cell_type": "code",
      "metadata": {
        "id": "qIummu_WnmKy",
        "colab_type": "code",
        "colab": {}
      },
      "source": [
        "cleanup_nums = {\"Q-1_Name of the Apartment\":     {\"Anandlok\": 1, \"Una\": 2},\n",
        "                \"Q-6_Does your bedroom has any of the following characteristics?\": {\"Southfacing\": 1, \"None\":0 }}"
      ],
      "execution_count": 0,
      "outputs": []
    },
    {
      "cell_type": "code",
      "metadata": {
        "id": "ZdxWvUK6qlRY",
        "colab_type": "code",
        "outputId": "089f5491-f862-48e1-b473-2d143536f8af",
        "colab": {
          "base_uri": "https://localhost:8080/",
          "height": 282
        }
      },
      "source": [
        "data.replace(cleanup_nums, inplace=True)\n",
        "data.head()"
      ],
      "execution_count": 32,
      "outputs": [
        {
          "output_type": "execute_result",
          "data": {
            "text/html": [
              "<div>\n",
              "<style scoped>\n",
              "    .dataframe tbody tr th:only-of-type {\n",
              "        vertical-align: middle;\n",
              "    }\n",
              "\n",
              "    .dataframe tbody tr th {\n",
              "        vertical-align: top;\n",
              "    }\n",
              "\n",
              "    .dataframe thead th {\n",
              "        text-align: right;\n",
              "    }\n",
              "</style>\n",
              "<table border=\"1\" class=\"dataframe\">\n",
              "  <thead>\n",
              "    <tr style=\"text-align: right;\">\n",
              "      <th></th>\n",
              "      <th>CA Number</th>\n",
              "      <th>Survey Duration</th>\n",
              "      <th>Q-1_Name of the Apartment</th>\n",
              "      <th>Q_5_Floor No</th>\n",
              "      <th>Q-6_Does your bedroom has any of the following characteristics?</th>\n",
              "      <th>Q-9_Apartment Type_bhk</th>\n",
              "      <th>Q-10_adults</th>\n",
              "      <th>Q-10_Children</th>\n",
              "      <th>Q-15-No of Acs</th>\n",
              "      <th>Q-16_No of Refrigerators</th>\n",
              "      <th>Q-17_No of Geysers</th>\n",
              "      <th>Q-18_No of Fans</th>\n",
              "      <th>Q-18_No of Washing Machine</th>\n",
              "      <th>Total Residents</th>\n",
              "    </tr>\n",
              "  </thead>\n",
              "  <tbody>\n",
              "    <tr>\n",
              "      <th>0</th>\n",
              "      <td>55</td>\n",
              "      <td>338</td>\n",
              "      <td>2</td>\n",
              "      <td>0</td>\n",
              "      <td>1</td>\n",
              "      <td>2</td>\n",
              "      <td>2</td>\n",
              "      <td>0</td>\n",
              "      <td>1.0</td>\n",
              "      <td>1</td>\n",
              "      <td>1.0</td>\n",
              "      <td>5</td>\n",
              "      <td>1.0</td>\n",
              "      <td>2</td>\n",
              "    </tr>\n",
              "    <tr>\n",
              "      <th>1</th>\n",
              "      <td>119</td>\n",
              "      <td>342</td>\n",
              "      <td>1</td>\n",
              "      <td>1</td>\n",
              "      <td>0</td>\n",
              "      <td>3</td>\n",
              "      <td>4</td>\n",
              "      <td>0</td>\n",
              "      <td>4.0</td>\n",
              "      <td>1</td>\n",
              "      <td>1.0</td>\n",
              "      <td>10</td>\n",
              "      <td>1.0</td>\n",
              "      <td>4</td>\n",
              "    </tr>\n",
              "    <tr>\n",
              "      <th>2</th>\n",
              "      <td>144</td>\n",
              "      <td>347</td>\n",
              "      <td>2</td>\n",
              "      <td>2</td>\n",
              "      <td>0</td>\n",
              "      <td>2</td>\n",
              "      <td>2</td>\n",
              "      <td>1</td>\n",
              "      <td>1.0</td>\n",
              "      <td>1</td>\n",
              "      <td>1.0</td>\n",
              "      <td>6</td>\n",
              "      <td>1.0</td>\n",
              "      <td>3</td>\n",
              "    </tr>\n",
              "    <tr>\n",
              "      <th>3</th>\n",
              "      <td>151</td>\n",
              "      <td>353</td>\n",
              "      <td>1</td>\n",
              "      <td>2</td>\n",
              "      <td>0</td>\n",
              "      <td>3</td>\n",
              "      <td>3</td>\n",
              "      <td>0</td>\n",
              "      <td>4.0</td>\n",
              "      <td>2</td>\n",
              "      <td>2.0</td>\n",
              "      <td>6</td>\n",
              "      <td>2.0</td>\n",
              "      <td>3</td>\n",
              "    </tr>\n",
              "    <tr>\n",
              "      <th>4</th>\n",
              "      <td>53</td>\n",
              "      <td>357</td>\n",
              "      <td>2</td>\n",
              "      <td>3</td>\n",
              "      <td>1</td>\n",
              "      <td>3</td>\n",
              "      <td>4</td>\n",
              "      <td>0</td>\n",
              "      <td>2.0</td>\n",
              "      <td>1</td>\n",
              "      <td>1.0</td>\n",
              "      <td>4</td>\n",
              "      <td>1.0</td>\n",
              "      <td>4</td>\n",
              "    </tr>\n",
              "  </tbody>\n",
              "</table>\n",
              "</div>"
            ],
            "text/plain": [
              "   CA Number  Survey Duration  ...  Q-18_No of Washing Machine  Total Residents\n",
              "0         55              338  ...                         1.0                2\n",
              "1        119              342  ...                         1.0                4\n",
              "2        144              347  ...                         1.0                3\n",
              "3        151              353  ...                         2.0                3\n",
              "4         53              357  ...                         1.0                4\n",
              "\n",
              "[5 rows x 14 columns]"
            ]
          },
          "metadata": {
            "tags": []
          },
          "execution_count": 32
        }
      ]
    },
    {
      "cell_type": "markdown",
      "metadata": {
        "id": "6oQ8WcbXLkXf",
        "colab_type": "text"
      },
      "source": [
        "Renaming the column as CA number and Contract account is same ."
      ]
    },
    {
      "cell_type": "code",
      "metadata": {
        "id": "68iLWNJhubMV",
        "colab_type": "code",
        "colab": {}
      },
      "source": [
        "data=data.rename(columns={ \"CA Number\": \"CONTRACT_ACCOUNT\"}, errors=\"raise\")"
      ],
      "execution_count": 0,
      "outputs": []
    },
    {
      "cell_type": "code",
      "metadata": {
        "id": "y5dIMgLfxI0X",
        "colab_type": "code",
        "outputId": "0628d93f-96fd-48ca-b6be-67d4b042a1fa",
        "colab": {
          "base_uri": "https://localhost:8080/",
          "height": 282
        }
      },
      "source": [
        "data.head()"
      ],
      "execution_count": 34,
      "outputs": [
        {
          "output_type": "execute_result",
          "data": {
            "text/html": [
              "<div>\n",
              "<style scoped>\n",
              "    .dataframe tbody tr th:only-of-type {\n",
              "        vertical-align: middle;\n",
              "    }\n",
              "\n",
              "    .dataframe tbody tr th {\n",
              "        vertical-align: top;\n",
              "    }\n",
              "\n",
              "    .dataframe thead th {\n",
              "        text-align: right;\n",
              "    }\n",
              "</style>\n",
              "<table border=\"1\" class=\"dataframe\">\n",
              "  <thead>\n",
              "    <tr style=\"text-align: right;\">\n",
              "      <th></th>\n",
              "      <th>CONTRACT_ACCOUNT</th>\n",
              "      <th>Survey Duration</th>\n",
              "      <th>Q-1_Name of the Apartment</th>\n",
              "      <th>Q_5_Floor No</th>\n",
              "      <th>Q-6_Does your bedroom has any of the following characteristics?</th>\n",
              "      <th>Q-9_Apartment Type_bhk</th>\n",
              "      <th>Q-10_adults</th>\n",
              "      <th>Q-10_Children</th>\n",
              "      <th>Q-15-No of Acs</th>\n",
              "      <th>Q-16_No of Refrigerators</th>\n",
              "      <th>Q-17_No of Geysers</th>\n",
              "      <th>Q-18_No of Fans</th>\n",
              "      <th>Q-18_No of Washing Machine</th>\n",
              "      <th>Total Residents</th>\n",
              "    </tr>\n",
              "  </thead>\n",
              "  <tbody>\n",
              "    <tr>\n",
              "      <th>0</th>\n",
              "      <td>55</td>\n",
              "      <td>338</td>\n",
              "      <td>2</td>\n",
              "      <td>0</td>\n",
              "      <td>1</td>\n",
              "      <td>2</td>\n",
              "      <td>2</td>\n",
              "      <td>0</td>\n",
              "      <td>1.0</td>\n",
              "      <td>1</td>\n",
              "      <td>1.0</td>\n",
              "      <td>5</td>\n",
              "      <td>1.0</td>\n",
              "      <td>2</td>\n",
              "    </tr>\n",
              "    <tr>\n",
              "      <th>1</th>\n",
              "      <td>119</td>\n",
              "      <td>342</td>\n",
              "      <td>1</td>\n",
              "      <td>1</td>\n",
              "      <td>0</td>\n",
              "      <td>3</td>\n",
              "      <td>4</td>\n",
              "      <td>0</td>\n",
              "      <td>4.0</td>\n",
              "      <td>1</td>\n",
              "      <td>1.0</td>\n",
              "      <td>10</td>\n",
              "      <td>1.0</td>\n",
              "      <td>4</td>\n",
              "    </tr>\n",
              "    <tr>\n",
              "      <th>2</th>\n",
              "      <td>144</td>\n",
              "      <td>347</td>\n",
              "      <td>2</td>\n",
              "      <td>2</td>\n",
              "      <td>0</td>\n",
              "      <td>2</td>\n",
              "      <td>2</td>\n",
              "      <td>1</td>\n",
              "      <td>1.0</td>\n",
              "      <td>1</td>\n",
              "      <td>1.0</td>\n",
              "      <td>6</td>\n",
              "      <td>1.0</td>\n",
              "      <td>3</td>\n",
              "    </tr>\n",
              "    <tr>\n",
              "      <th>3</th>\n",
              "      <td>151</td>\n",
              "      <td>353</td>\n",
              "      <td>1</td>\n",
              "      <td>2</td>\n",
              "      <td>0</td>\n",
              "      <td>3</td>\n",
              "      <td>3</td>\n",
              "      <td>0</td>\n",
              "      <td>4.0</td>\n",
              "      <td>2</td>\n",
              "      <td>2.0</td>\n",
              "      <td>6</td>\n",
              "      <td>2.0</td>\n",
              "      <td>3</td>\n",
              "    </tr>\n",
              "    <tr>\n",
              "      <th>4</th>\n",
              "      <td>53</td>\n",
              "      <td>357</td>\n",
              "      <td>2</td>\n",
              "      <td>3</td>\n",
              "      <td>1</td>\n",
              "      <td>3</td>\n",
              "      <td>4</td>\n",
              "      <td>0</td>\n",
              "      <td>2.0</td>\n",
              "      <td>1</td>\n",
              "      <td>1.0</td>\n",
              "      <td>4</td>\n",
              "      <td>1.0</td>\n",
              "      <td>4</td>\n",
              "    </tr>\n",
              "  </tbody>\n",
              "</table>\n",
              "</div>"
            ],
            "text/plain": [
              "   CONTRACT_ACCOUNT  ...  Total Residents\n",
              "0                55  ...                2\n",
              "1               119  ...                4\n",
              "2               144  ...                3\n",
              "3               151  ...                3\n",
              "4                53  ...                4\n",
              "\n",
              "[5 rows x 14 columns]"
            ]
          },
          "metadata": {
            "tags": []
          },
          "execution_count": 34
        }
      ]
    },
    {
      "cell_type": "markdown",
      "metadata": {
        "id": "b6C4VVkVL0q2",
        "colab_type": "text"
      },
      "source": [
        "Mering the datasets"
      ]
    },
    {
      "cell_type": "code",
      "metadata": {
        "id": "8ImF2SsIrqaY",
        "colab_type": "code",
        "outputId": "51efc885-1d15-46b5-b5a0-d4329075783b",
        "colab": {
          "base_uri": "https://localhost:8080/",
          "height": 282
        }
      },
      "source": [
        "merged = pd.merge(data, data_new, on='CONTRACT_ACCOUNT', how='left')\n",
        "merged.head()"
      ],
      "execution_count": 35,
      "outputs": [
        {
          "output_type": "execute_result",
          "data": {
            "text/html": [
              "<div>\n",
              "<style scoped>\n",
              "    .dataframe tbody tr th:only-of-type {\n",
              "        vertical-align: middle;\n",
              "    }\n",
              "\n",
              "    .dataframe tbody tr th {\n",
              "        vertical-align: top;\n",
              "    }\n",
              "\n",
              "    .dataframe thead th {\n",
              "        text-align: right;\n",
              "    }\n",
              "</style>\n",
              "<table border=\"1\" class=\"dataframe\">\n",
              "  <thead>\n",
              "    <tr style=\"text-align: right;\">\n",
              "      <th></th>\n",
              "      <th>CONTRACT_ACCOUNT</th>\n",
              "      <th>Survey Duration</th>\n",
              "      <th>Q-1_Name of the Apartment</th>\n",
              "      <th>Q_5_Floor No</th>\n",
              "      <th>Q-6_Does your bedroom has any of the following characteristics?</th>\n",
              "      <th>Q-9_Apartment Type_bhk</th>\n",
              "      <th>Q-10_adults</th>\n",
              "      <th>Q-10_Children</th>\n",
              "      <th>Q-15-No of Acs</th>\n",
              "      <th>Q-16_No of Refrigerators</th>\n",
              "      <th>Q-17_No of Geysers</th>\n",
              "      <th>Q-18_No of Fans</th>\n",
              "      <th>Q-18_No of Washing Machine</th>\n",
              "      <th>Total Residents</th>\n",
              "      <th>201701</th>\n",
              "      <th>201702</th>\n",
              "      <th>201703</th>\n",
              "      <th>201704</th>\n",
              "      <th>201705</th>\n",
              "      <th>201706</th>\n",
              "      <th>201707</th>\n",
              "      <th>201708</th>\n",
              "      <th>201709</th>\n",
              "      <th>201710</th>\n",
              "      <th>201711</th>\n",
              "      <th>201712</th>\n",
              "      <th>201801</th>\n",
              "      <th>201802</th>\n",
              "      <th>201803</th>\n",
              "      <th>201804</th>\n",
              "      <th>201805</th>\n",
              "      <th>201806</th>\n",
              "      <th>201807</th>\n",
              "      <th>201808</th>\n",
              "      <th>201809</th>\n",
              "      <th>201810</th>\n",
              "      <th>201811</th>\n",
              "      <th>201812</th>\n",
              "      <th>201901</th>\n",
              "      <th>Grand Total</th>\n",
              "    </tr>\n",
              "  </thead>\n",
              "  <tbody>\n",
              "    <tr>\n",
              "      <th>0</th>\n",
              "      <td>55</td>\n",
              "      <td>338</td>\n",
              "      <td>2</td>\n",
              "      <td>0</td>\n",
              "      <td>1</td>\n",
              "      <td>2</td>\n",
              "      <td>2</td>\n",
              "      <td>0</td>\n",
              "      <td>1.0</td>\n",
              "      <td>1</td>\n",
              "      <td>1.0</td>\n",
              "      <td>5</td>\n",
              "      <td>1.0</td>\n",
              "      <td>2</td>\n",
              "      <td>372.0</td>\n",
              "      <td>475.0</td>\n",
              "      <td>345.0</td>\n",
              "      <td>228.0</td>\n",
              "      <td>269.0</td>\n",
              "      <td>82.0</td>\n",
              "      <td>68.0</td>\n",
              "      <td>83.0</td>\n",
              "      <td>143.0</td>\n",
              "      <td>69.0</td>\n",
              "      <td>67.0</td>\n",
              "      <td>50.0</td>\n",
              "      <td>41.0</td>\n",
              "      <td>37.0</td>\n",
              "      <td>70.0</td>\n",
              "      <td>62.0</td>\n",
              "      <td>59.0</td>\n",
              "      <td>81.0</td>\n",
              "      <td>8.0</td>\n",
              "      <td>0.0</td>\n",
              "      <td>105.0</td>\n",
              "      <td>126.0</td>\n",
              "      <td>83.0</td>\n",
              "      <td>0.0</td>\n",
              "      <td>0.0</td>\n",
              "      <td>2923.0</td>\n",
              "    </tr>\n",
              "    <tr>\n",
              "      <th>1</th>\n",
              "      <td>119</td>\n",
              "      <td>342</td>\n",
              "      <td>1</td>\n",
              "      <td>1</td>\n",
              "      <td>0</td>\n",
              "      <td>3</td>\n",
              "      <td>4</td>\n",
              "      <td>0</td>\n",
              "      <td>4.0</td>\n",
              "      <td>1</td>\n",
              "      <td>1.0</td>\n",
              "      <td>10</td>\n",
              "      <td>1.0</td>\n",
              "      <td>4</td>\n",
              "      <td>426.0</td>\n",
              "      <td>409.0</td>\n",
              "      <td>289.0</td>\n",
              "      <td>252.0</td>\n",
              "      <td>665.0</td>\n",
              "      <td>564.0</td>\n",
              "      <td>545.0</td>\n",
              "      <td>298.0</td>\n",
              "      <td>779.0</td>\n",
              "      <td>714.0</td>\n",
              "      <td>148.0</td>\n",
              "      <td>181.0</td>\n",
              "      <td>618.0</td>\n",
              "      <td>536.0</td>\n",
              "      <td>187.0</td>\n",
              "      <td>173.0</td>\n",
              "      <td>374.0</td>\n",
              "      <td>769.0</td>\n",
              "      <td>1191.0</td>\n",
              "      <td>427.0</td>\n",
              "      <td>388.0</td>\n",
              "      <td>206.0</td>\n",
              "      <td>135.0</td>\n",
              "      <td>148.0</td>\n",
              "      <td>64.0</td>\n",
              "      <td>10486.0</td>\n",
              "    </tr>\n",
              "    <tr>\n",
              "      <th>2</th>\n",
              "      <td>144</td>\n",
              "      <td>347</td>\n",
              "      <td>2</td>\n",
              "      <td>2</td>\n",
              "      <td>0</td>\n",
              "      <td>2</td>\n",
              "      <td>2</td>\n",
              "      <td>1</td>\n",
              "      <td>1.0</td>\n",
              "      <td>1</td>\n",
              "      <td>1.0</td>\n",
              "      <td>6</td>\n",
              "      <td>1.0</td>\n",
              "      <td>3</td>\n",
              "      <td>0.0</td>\n",
              "      <td>0.0</td>\n",
              "      <td>0.0</td>\n",
              "      <td>0.0</td>\n",
              "      <td>0.0</td>\n",
              "      <td>0.0</td>\n",
              "      <td>0.0</td>\n",
              "      <td>1.0</td>\n",
              "      <td>0.0</td>\n",
              "      <td>1688.0</td>\n",
              "      <td>0.0</td>\n",
              "      <td>0.0</td>\n",
              "      <td>0.0</td>\n",
              "      <td>0.0</td>\n",
              "      <td>0.0</td>\n",
              "      <td>1.0</td>\n",
              "      <td>0.0</td>\n",
              "      <td>0.0</td>\n",
              "      <td>0.0</td>\n",
              "      <td>0.0</td>\n",
              "      <td>0.0</td>\n",
              "      <td>19.0</td>\n",
              "      <td>16.0</td>\n",
              "      <td>1.0</td>\n",
              "      <td>55.0</td>\n",
              "      <td>1781.0</td>\n",
              "    </tr>\n",
              "    <tr>\n",
              "      <th>3</th>\n",
              "      <td>151</td>\n",
              "      <td>353</td>\n",
              "      <td>1</td>\n",
              "      <td>2</td>\n",
              "      <td>0</td>\n",
              "      <td>3</td>\n",
              "      <td>3</td>\n",
              "      <td>0</td>\n",
              "      <td>4.0</td>\n",
              "      <td>2</td>\n",
              "      <td>2.0</td>\n",
              "      <td>6</td>\n",
              "      <td>2.0</td>\n",
              "      <td>3</td>\n",
              "      <td>417.0</td>\n",
              "      <td>410.0</td>\n",
              "      <td>511.0</td>\n",
              "      <td>814.0</td>\n",
              "      <td>1356.0</td>\n",
              "      <td>1235.0</td>\n",
              "      <td>1553.0</td>\n",
              "      <td>1097.0</td>\n",
              "      <td>2227.0</td>\n",
              "      <td>438.0</td>\n",
              "      <td>676.0</td>\n",
              "      <td>417.0</td>\n",
              "      <td>889.0</td>\n",
              "      <td>435.0</td>\n",
              "      <td>440.0</td>\n",
              "      <td>790.0</td>\n",
              "      <td>1278.0</td>\n",
              "      <td>1748.0</td>\n",
              "      <td>3100.0</td>\n",
              "      <td>1234.0</td>\n",
              "      <td>1179.0</td>\n",
              "      <td>958.0</td>\n",
              "      <td>556.0</td>\n",
              "      <td>460.0</td>\n",
              "      <td>652.0</td>\n",
              "      <td>24870.0</td>\n",
              "    </tr>\n",
              "    <tr>\n",
              "      <th>4</th>\n",
              "      <td>53</td>\n",
              "      <td>357</td>\n",
              "      <td>2</td>\n",
              "      <td>3</td>\n",
              "      <td>1</td>\n",
              "      <td>3</td>\n",
              "      <td>4</td>\n",
              "      <td>0</td>\n",
              "      <td>2.0</td>\n",
              "      <td>1</td>\n",
              "      <td>1.0</td>\n",
              "      <td>4</td>\n",
              "      <td>1.0</td>\n",
              "      <td>4</td>\n",
              "      <td>266.0</td>\n",
              "      <td>248.0</td>\n",
              "      <td>224.0</td>\n",
              "      <td>305.0</td>\n",
              "      <td>734.0</td>\n",
              "      <td>1007.0</td>\n",
              "      <td>758.0</td>\n",
              "      <td>805.0</td>\n",
              "      <td>1239.0</td>\n",
              "      <td>524.0</td>\n",
              "      <td>358.0</td>\n",
              "      <td>225.0</td>\n",
              "      <td>272.0</td>\n",
              "      <td>276.0</td>\n",
              "      <td>249.0</td>\n",
              "      <td>329.0</td>\n",
              "      <td>612.0</td>\n",
              "      <td>1223.0</td>\n",
              "      <td>2075.0</td>\n",
              "      <td>793.0</td>\n",
              "      <td>749.0</td>\n",
              "      <td>493.0</td>\n",
              "      <td>263.0</td>\n",
              "      <td>308.0</td>\n",
              "      <td>247.0</td>\n",
              "      <td>14582.0</td>\n",
              "    </tr>\n",
              "  </tbody>\n",
              "</table>\n",
              "</div>"
            ],
            "text/plain": [
              "   CONTRACT_ACCOUNT  Survey Duration  ...  201901  Grand Total\n",
              "0                55              338  ...     0.0       2923.0\n",
              "1               119              342  ...    64.0      10486.0\n",
              "2               144              347  ...    55.0       1781.0\n",
              "3               151              353  ...   652.0      24870.0\n",
              "4                53              357  ...   247.0      14582.0\n",
              "\n",
              "[5 rows x 40 columns]"
            ]
          },
          "metadata": {
            "tags": []
          },
          "execution_count": 35
        }
      ]
    },
    {
      "cell_type": "markdown",
      "metadata": {
        "id": "dP7XnFy2L-I_",
        "colab_type": "text"
      },
      "source": [
        "I like to find the average bill with reference to total"
      ]
    },
    {
      "cell_type": "code",
      "metadata": {
        "id": "YxznSo_lp3aN",
        "colab_type": "code",
        "colab": {}
      },
      "source": [
        "merged['Average']=merged['Grand Total']//25"
      ],
      "execution_count": 0,
      "outputs": []
    },
    {
      "cell_type": "code",
      "metadata": {
        "id": "vAPfkHPQwJT6",
        "colab_type": "code",
        "outputId": "1856f99c-8b12-476b-81e0-0be6d1b21a6d",
        "colab": {
          "base_uri": "https://localhost:8080/",
          "height": 282
        }
      },
      "source": [
        "merged.head()"
      ],
      "execution_count": 37,
      "outputs": [
        {
          "output_type": "execute_result",
          "data": {
            "text/html": [
              "<div>\n",
              "<style scoped>\n",
              "    .dataframe tbody tr th:only-of-type {\n",
              "        vertical-align: middle;\n",
              "    }\n",
              "\n",
              "    .dataframe tbody tr th {\n",
              "        vertical-align: top;\n",
              "    }\n",
              "\n",
              "    .dataframe thead th {\n",
              "        text-align: right;\n",
              "    }\n",
              "</style>\n",
              "<table border=\"1\" class=\"dataframe\">\n",
              "  <thead>\n",
              "    <tr style=\"text-align: right;\">\n",
              "      <th></th>\n",
              "      <th>CONTRACT_ACCOUNT</th>\n",
              "      <th>Survey Duration</th>\n",
              "      <th>Q-1_Name of the Apartment</th>\n",
              "      <th>Q_5_Floor No</th>\n",
              "      <th>Q-6_Does your bedroom has any of the following characteristics?</th>\n",
              "      <th>Q-9_Apartment Type_bhk</th>\n",
              "      <th>Q-10_adults</th>\n",
              "      <th>Q-10_Children</th>\n",
              "      <th>Q-15-No of Acs</th>\n",
              "      <th>Q-16_No of Refrigerators</th>\n",
              "      <th>Q-17_No of Geysers</th>\n",
              "      <th>Q-18_No of Fans</th>\n",
              "      <th>Q-18_No of Washing Machine</th>\n",
              "      <th>Total Residents</th>\n",
              "      <th>201701</th>\n",
              "      <th>201702</th>\n",
              "      <th>201703</th>\n",
              "      <th>201704</th>\n",
              "      <th>201705</th>\n",
              "      <th>201706</th>\n",
              "      <th>201707</th>\n",
              "      <th>201708</th>\n",
              "      <th>201709</th>\n",
              "      <th>201710</th>\n",
              "      <th>201711</th>\n",
              "      <th>201712</th>\n",
              "      <th>201801</th>\n",
              "      <th>201802</th>\n",
              "      <th>201803</th>\n",
              "      <th>201804</th>\n",
              "      <th>201805</th>\n",
              "      <th>201806</th>\n",
              "      <th>201807</th>\n",
              "      <th>201808</th>\n",
              "      <th>201809</th>\n",
              "      <th>201810</th>\n",
              "      <th>201811</th>\n",
              "      <th>201812</th>\n",
              "      <th>201901</th>\n",
              "      <th>Grand Total</th>\n",
              "      <th>Average</th>\n",
              "    </tr>\n",
              "  </thead>\n",
              "  <tbody>\n",
              "    <tr>\n",
              "      <th>0</th>\n",
              "      <td>55</td>\n",
              "      <td>338</td>\n",
              "      <td>2</td>\n",
              "      <td>0</td>\n",
              "      <td>1</td>\n",
              "      <td>2</td>\n",
              "      <td>2</td>\n",
              "      <td>0</td>\n",
              "      <td>1.0</td>\n",
              "      <td>1</td>\n",
              "      <td>1.0</td>\n",
              "      <td>5</td>\n",
              "      <td>1.0</td>\n",
              "      <td>2</td>\n",
              "      <td>372.0</td>\n",
              "      <td>475.0</td>\n",
              "      <td>345.0</td>\n",
              "      <td>228.0</td>\n",
              "      <td>269.0</td>\n",
              "      <td>82.0</td>\n",
              "      <td>68.0</td>\n",
              "      <td>83.0</td>\n",
              "      <td>143.0</td>\n",
              "      <td>69.0</td>\n",
              "      <td>67.0</td>\n",
              "      <td>50.0</td>\n",
              "      <td>41.0</td>\n",
              "      <td>37.0</td>\n",
              "      <td>70.0</td>\n",
              "      <td>62.0</td>\n",
              "      <td>59.0</td>\n",
              "      <td>81.0</td>\n",
              "      <td>8.0</td>\n",
              "      <td>0.0</td>\n",
              "      <td>105.0</td>\n",
              "      <td>126.0</td>\n",
              "      <td>83.0</td>\n",
              "      <td>0.0</td>\n",
              "      <td>0.0</td>\n",
              "      <td>2923.0</td>\n",
              "      <td>116.0</td>\n",
              "    </tr>\n",
              "    <tr>\n",
              "      <th>1</th>\n",
              "      <td>119</td>\n",
              "      <td>342</td>\n",
              "      <td>1</td>\n",
              "      <td>1</td>\n",
              "      <td>0</td>\n",
              "      <td>3</td>\n",
              "      <td>4</td>\n",
              "      <td>0</td>\n",
              "      <td>4.0</td>\n",
              "      <td>1</td>\n",
              "      <td>1.0</td>\n",
              "      <td>10</td>\n",
              "      <td>1.0</td>\n",
              "      <td>4</td>\n",
              "      <td>426.0</td>\n",
              "      <td>409.0</td>\n",
              "      <td>289.0</td>\n",
              "      <td>252.0</td>\n",
              "      <td>665.0</td>\n",
              "      <td>564.0</td>\n",
              "      <td>545.0</td>\n",
              "      <td>298.0</td>\n",
              "      <td>779.0</td>\n",
              "      <td>714.0</td>\n",
              "      <td>148.0</td>\n",
              "      <td>181.0</td>\n",
              "      <td>618.0</td>\n",
              "      <td>536.0</td>\n",
              "      <td>187.0</td>\n",
              "      <td>173.0</td>\n",
              "      <td>374.0</td>\n",
              "      <td>769.0</td>\n",
              "      <td>1191.0</td>\n",
              "      <td>427.0</td>\n",
              "      <td>388.0</td>\n",
              "      <td>206.0</td>\n",
              "      <td>135.0</td>\n",
              "      <td>148.0</td>\n",
              "      <td>64.0</td>\n",
              "      <td>10486.0</td>\n",
              "      <td>419.0</td>\n",
              "    </tr>\n",
              "    <tr>\n",
              "      <th>2</th>\n",
              "      <td>144</td>\n",
              "      <td>347</td>\n",
              "      <td>2</td>\n",
              "      <td>2</td>\n",
              "      <td>0</td>\n",
              "      <td>2</td>\n",
              "      <td>2</td>\n",
              "      <td>1</td>\n",
              "      <td>1.0</td>\n",
              "      <td>1</td>\n",
              "      <td>1.0</td>\n",
              "      <td>6</td>\n",
              "      <td>1.0</td>\n",
              "      <td>3</td>\n",
              "      <td>0.0</td>\n",
              "      <td>0.0</td>\n",
              "      <td>0.0</td>\n",
              "      <td>0.0</td>\n",
              "      <td>0.0</td>\n",
              "      <td>0.0</td>\n",
              "      <td>0.0</td>\n",
              "      <td>1.0</td>\n",
              "      <td>0.0</td>\n",
              "      <td>1688.0</td>\n",
              "      <td>0.0</td>\n",
              "      <td>0.0</td>\n",
              "      <td>0.0</td>\n",
              "      <td>0.0</td>\n",
              "      <td>0.0</td>\n",
              "      <td>1.0</td>\n",
              "      <td>0.0</td>\n",
              "      <td>0.0</td>\n",
              "      <td>0.0</td>\n",
              "      <td>0.0</td>\n",
              "      <td>0.0</td>\n",
              "      <td>19.0</td>\n",
              "      <td>16.0</td>\n",
              "      <td>1.0</td>\n",
              "      <td>55.0</td>\n",
              "      <td>1781.0</td>\n",
              "      <td>71.0</td>\n",
              "    </tr>\n",
              "    <tr>\n",
              "      <th>3</th>\n",
              "      <td>151</td>\n",
              "      <td>353</td>\n",
              "      <td>1</td>\n",
              "      <td>2</td>\n",
              "      <td>0</td>\n",
              "      <td>3</td>\n",
              "      <td>3</td>\n",
              "      <td>0</td>\n",
              "      <td>4.0</td>\n",
              "      <td>2</td>\n",
              "      <td>2.0</td>\n",
              "      <td>6</td>\n",
              "      <td>2.0</td>\n",
              "      <td>3</td>\n",
              "      <td>417.0</td>\n",
              "      <td>410.0</td>\n",
              "      <td>511.0</td>\n",
              "      <td>814.0</td>\n",
              "      <td>1356.0</td>\n",
              "      <td>1235.0</td>\n",
              "      <td>1553.0</td>\n",
              "      <td>1097.0</td>\n",
              "      <td>2227.0</td>\n",
              "      <td>438.0</td>\n",
              "      <td>676.0</td>\n",
              "      <td>417.0</td>\n",
              "      <td>889.0</td>\n",
              "      <td>435.0</td>\n",
              "      <td>440.0</td>\n",
              "      <td>790.0</td>\n",
              "      <td>1278.0</td>\n",
              "      <td>1748.0</td>\n",
              "      <td>3100.0</td>\n",
              "      <td>1234.0</td>\n",
              "      <td>1179.0</td>\n",
              "      <td>958.0</td>\n",
              "      <td>556.0</td>\n",
              "      <td>460.0</td>\n",
              "      <td>652.0</td>\n",
              "      <td>24870.0</td>\n",
              "      <td>994.0</td>\n",
              "    </tr>\n",
              "    <tr>\n",
              "      <th>4</th>\n",
              "      <td>53</td>\n",
              "      <td>357</td>\n",
              "      <td>2</td>\n",
              "      <td>3</td>\n",
              "      <td>1</td>\n",
              "      <td>3</td>\n",
              "      <td>4</td>\n",
              "      <td>0</td>\n",
              "      <td>2.0</td>\n",
              "      <td>1</td>\n",
              "      <td>1.0</td>\n",
              "      <td>4</td>\n",
              "      <td>1.0</td>\n",
              "      <td>4</td>\n",
              "      <td>266.0</td>\n",
              "      <td>248.0</td>\n",
              "      <td>224.0</td>\n",
              "      <td>305.0</td>\n",
              "      <td>734.0</td>\n",
              "      <td>1007.0</td>\n",
              "      <td>758.0</td>\n",
              "      <td>805.0</td>\n",
              "      <td>1239.0</td>\n",
              "      <td>524.0</td>\n",
              "      <td>358.0</td>\n",
              "      <td>225.0</td>\n",
              "      <td>272.0</td>\n",
              "      <td>276.0</td>\n",
              "      <td>249.0</td>\n",
              "      <td>329.0</td>\n",
              "      <td>612.0</td>\n",
              "      <td>1223.0</td>\n",
              "      <td>2075.0</td>\n",
              "      <td>793.0</td>\n",
              "      <td>749.0</td>\n",
              "      <td>493.0</td>\n",
              "      <td>263.0</td>\n",
              "      <td>308.0</td>\n",
              "      <td>247.0</td>\n",
              "      <td>14582.0</td>\n",
              "      <td>583.0</td>\n",
              "    </tr>\n",
              "  </tbody>\n",
              "</table>\n",
              "</div>"
            ],
            "text/plain": [
              "   CONTRACT_ACCOUNT  Survey Duration  ...  Grand Total  Average\n",
              "0                55              338  ...       2923.0    116.0\n",
              "1               119              342  ...      10486.0    419.0\n",
              "2               144              347  ...       1781.0     71.0\n",
              "3               151              353  ...      24870.0    994.0\n",
              "4                53              357  ...      14582.0    583.0\n",
              "\n",
              "[5 rows x 41 columns]"
            ]
          },
          "metadata": {
            "tags": []
          },
          "execution_count": 37
        }
      ]
    },
    {
      "cell_type": "markdown",
      "metadata": {
        "id": "TTxs63jqMXol",
        "colab_type": "text"
      },
      "source": [
        "I don't find that this column necesary to find the future bill "
      ]
    },
    {
      "cell_type": "code",
      "metadata": {
        "id": "6Yf_W-sBodz4",
        "colab_type": "code",
        "colab": {}
      },
      "source": [
        "df=merged.drop(['Survey Duration', 'Q-10_Children','Q-10_adults','201701',\t'201702',\t'201703','201704','201705','201706','201707','201708','201709','201710','201711','201712','201801','201802','201803','201804','201805','201806','201807','201808','201809','201810','201811','201812','201901','Grand Total'], axis=1)"
      ],
      "execution_count": 0,
      "outputs": []
    },
    {
      "cell_type": "code",
      "metadata": {
        "id": "te8ddxt0v0Qb",
        "colab_type": "code",
        "outputId": "01615775-6dba-4c56-ecf1-278cb141d241",
        "colab": {
          "base_uri": "https://localhost:8080/",
          "height": 262
        }
      },
      "source": [
        "df.head()"
      ],
      "execution_count": 39,
      "outputs": [
        {
          "output_type": "execute_result",
          "data": {
            "text/html": [
              "<div>\n",
              "<style scoped>\n",
              "    .dataframe tbody tr th:only-of-type {\n",
              "        vertical-align: middle;\n",
              "    }\n",
              "\n",
              "    .dataframe tbody tr th {\n",
              "        vertical-align: top;\n",
              "    }\n",
              "\n",
              "    .dataframe thead th {\n",
              "        text-align: right;\n",
              "    }\n",
              "</style>\n",
              "<table border=\"1\" class=\"dataframe\">\n",
              "  <thead>\n",
              "    <tr style=\"text-align: right;\">\n",
              "      <th></th>\n",
              "      <th>CONTRACT_ACCOUNT</th>\n",
              "      <th>Q-1_Name of the Apartment</th>\n",
              "      <th>Q_5_Floor No</th>\n",
              "      <th>Q-6_Does your bedroom has any of the following characteristics?</th>\n",
              "      <th>Q-9_Apartment Type_bhk</th>\n",
              "      <th>Q-15-No of Acs</th>\n",
              "      <th>Q-16_No of Refrigerators</th>\n",
              "      <th>Q-17_No of Geysers</th>\n",
              "      <th>Q-18_No of Fans</th>\n",
              "      <th>Q-18_No of Washing Machine</th>\n",
              "      <th>Total Residents</th>\n",
              "      <th>Average</th>\n",
              "    </tr>\n",
              "  </thead>\n",
              "  <tbody>\n",
              "    <tr>\n",
              "      <th>0</th>\n",
              "      <td>55</td>\n",
              "      <td>2</td>\n",
              "      <td>0</td>\n",
              "      <td>1</td>\n",
              "      <td>2</td>\n",
              "      <td>1.0</td>\n",
              "      <td>1</td>\n",
              "      <td>1.0</td>\n",
              "      <td>5</td>\n",
              "      <td>1.0</td>\n",
              "      <td>2</td>\n",
              "      <td>116.0</td>\n",
              "    </tr>\n",
              "    <tr>\n",
              "      <th>1</th>\n",
              "      <td>119</td>\n",
              "      <td>1</td>\n",
              "      <td>1</td>\n",
              "      <td>0</td>\n",
              "      <td>3</td>\n",
              "      <td>4.0</td>\n",
              "      <td>1</td>\n",
              "      <td>1.0</td>\n",
              "      <td>10</td>\n",
              "      <td>1.0</td>\n",
              "      <td>4</td>\n",
              "      <td>419.0</td>\n",
              "    </tr>\n",
              "    <tr>\n",
              "      <th>2</th>\n",
              "      <td>144</td>\n",
              "      <td>2</td>\n",
              "      <td>2</td>\n",
              "      <td>0</td>\n",
              "      <td>2</td>\n",
              "      <td>1.0</td>\n",
              "      <td>1</td>\n",
              "      <td>1.0</td>\n",
              "      <td>6</td>\n",
              "      <td>1.0</td>\n",
              "      <td>3</td>\n",
              "      <td>71.0</td>\n",
              "    </tr>\n",
              "    <tr>\n",
              "      <th>3</th>\n",
              "      <td>151</td>\n",
              "      <td>1</td>\n",
              "      <td>2</td>\n",
              "      <td>0</td>\n",
              "      <td>3</td>\n",
              "      <td>4.0</td>\n",
              "      <td>2</td>\n",
              "      <td>2.0</td>\n",
              "      <td>6</td>\n",
              "      <td>2.0</td>\n",
              "      <td>3</td>\n",
              "      <td>994.0</td>\n",
              "    </tr>\n",
              "    <tr>\n",
              "      <th>4</th>\n",
              "      <td>53</td>\n",
              "      <td>2</td>\n",
              "      <td>3</td>\n",
              "      <td>1</td>\n",
              "      <td>3</td>\n",
              "      <td>2.0</td>\n",
              "      <td>1</td>\n",
              "      <td>1.0</td>\n",
              "      <td>4</td>\n",
              "      <td>1.0</td>\n",
              "      <td>4</td>\n",
              "      <td>583.0</td>\n",
              "    </tr>\n",
              "  </tbody>\n",
              "</table>\n",
              "</div>"
            ],
            "text/plain": [
              "   CONTRACT_ACCOUNT  Q-1_Name of the Apartment  ...  Total Residents  Average\n",
              "0                55                          2  ...                2    116.0\n",
              "1               119                          1  ...                4    419.0\n",
              "2               144                          2  ...                3     71.0\n",
              "3               151                          1  ...                3    994.0\n",
              "4                53                          2  ...                4    583.0\n",
              "\n",
              "[5 rows x 12 columns]"
            ]
          },
          "metadata": {
            "tags": []
          },
          "execution_count": 39
        }
      ]
    },
    {
      "cell_type": "code",
      "metadata": {
        "id": "i7IDRsI61nbM",
        "colab_type": "code",
        "outputId": "e6a16a40-bfc5-4790-fa23-f97c20634f83",
        "colab": {
          "base_uri": "https://localhost:8080/",
          "height": 246
        }
      },
      "source": [
        "df.isnull().sum()"
      ],
      "execution_count": 40,
      "outputs": [
        {
          "output_type": "execute_result",
          "data": {
            "text/plain": [
              "CONTRACT_ACCOUNT                                                   0\n",
              "Q-1_Name of the Apartment                                          0\n",
              "Q_5_Floor No                                                       0\n",
              "Q-6_Does your bedroom has any of the following characteristics?    0\n",
              "Q-9_Apartment Type_bhk                                             0\n",
              "Q-15-No of Acs                                                     0\n",
              "Q-16_No of Refrigerators                                           0\n",
              "Q-17_No of Geysers                                                 0\n",
              "Q-18_No of Fans                                                    0\n",
              "Q-18_No of Washing Machine                                         0\n",
              "Total Residents                                                    0\n",
              "Average                                                            8\n",
              "dtype: int64"
            ]
          },
          "metadata": {
            "tags": []
          },
          "execution_count": 40
        }
      ]
    },
    {
      "cell_type": "code",
      "metadata": {
        "id": "vmDNi51ZodWy",
        "colab_type": "code",
        "colab": {}
      },
      "source": [
        "data=df.dropna()\n"
      ],
      "execution_count": 0,
      "outputs": []
    },
    {
      "cell_type": "code",
      "metadata": {
        "id": "oT4Q8KoW4HF_",
        "colab_type": "code",
        "outputId": "58f8b485-8561-4880-be5a-eba4fc8fb1ab",
        "colab": {
          "base_uri": "https://localhost:8080/",
          "height": 246
        }
      },
      "source": [
        "data.isnull().sum()"
      ],
      "execution_count": 42,
      "outputs": [
        {
          "output_type": "execute_result",
          "data": {
            "text/plain": [
              "CONTRACT_ACCOUNT                                                   0\n",
              "Q-1_Name of the Apartment                                          0\n",
              "Q_5_Floor No                                                       0\n",
              "Q-6_Does your bedroom has any of the following characteristics?    0\n",
              "Q-9_Apartment Type_bhk                                             0\n",
              "Q-15-No of Acs                                                     0\n",
              "Q-16_No of Refrigerators                                           0\n",
              "Q-17_No of Geysers                                                 0\n",
              "Q-18_No of Fans                                                    0\n",
              "Q-18_No of Washing Machine                                         0\n",
              "Total Residents                                                    0\n",
              "Average                                                            0\n",
              "dtype: int64"
            ]
          },
          "metadata": {
            "tags": []
          },
          "execution_count": 42
        }
      ]
    },
    {
      "cell_type": "code",
      "metadata": {
        "id": "Bpw95YHm1T5y",
        "colab_type": "code",
        "colab": {}
      },
      "source": [
        "y=data['Average']\n",
        "del data['Average']"
      ],
      "execution_count": 0,
      "outputs": []
    },
    {
      "cell_type": "code",
      "metadata": {
        "id": "hddKBejb0fr5",
        "colab_type": "code",
        "outputId": "b068c948-048e-4760-a065-2800e92c42f0",
        "colab": {
          "base_uri": "https://localhost:8080/",
          "height": 228
        }
      },
      "source": [
        "print(y)"
      ],
      "execution_count": 44,
      "outputs": [
        {
          "output_type": "stream",
          "text": [
            "0      116.0\n",
            "1      419.0\n",
            "2       71.0\n",
            "3      994.0\n",
            "4      583.0\n",
            "       ...  \n",
            "156    512.0\n",
            "157    261.0\n",
            "158    769.0\n",
            "160    775.0\n",
            "161    174.0\n",
            "Name: Average, Length: 154, dtype: float64\n"
          ],
          "name": "stdout"
        }
      ]
    },
    {
      "cell_type": "code",
      "metadata": {
        "id": "LbOBpLYAyL2a",
        "colab_type": "code",
        "colab": {}
      },
      "source": [
        "from sklearn.model_selection import train_test_split\n"
      ],
      "execution_count": 0,
      "outputs": []
    },
    {
      "cell_type": "code",
      "metadata": {
        "id": "pwJ1foaiyYhK",
        "colab_type": "code",
        "colab": {}
      },
      "source": [
        "Xtrain, Xtest, ytrain, ytest = train_test_split(data, y, test_size=0.30, random_state=2)"
      ],
      "execution_count": 0,
      "outputs": []
    },
    {
      "cell_type": "code",
      "metadata": {
        "id": "hpGFnHnByxIU",
        "colab_type": "code",
        "colab": {}
      },
      "source": [
        "from sklearn.linear_model import LinearRegression\n",
        "from sklearn.metrics import accuracy_score"
      ],
      "execution_count": 0,
      "outputs": []
    },
    {
      "cell_type": "code",
      "metadata": {
        "id": "FrA1pxa10QlJ",
        "colab_type": "code",
        "colab": {}
      },
      "source": [
        "clf=(LinearRegression())"
      ],
      "execution_count": 0,
      "outputs": []
    },
    {
      "cell_type": "code",
      "metadata": {
        "id": "_2ILCF_E0UUH",
        "colab_type": "code",
        "outputId": "7f5565dd-1f77-4814-e01b-d731bc8634ba",
        "colab": {
          "base_uri": "https://localhost:8080/",
          "height": 34
        }
      },
      "source": [
        "clf.fit(Xtrain, ytrain)"
      ],
      "execution_count": 49,
      "outputs": [
        {
          "output_type": "execute_result",
          "data": {
            "text/plain": [
              "LinearRegression(copy_X=True, fit_intercept=True, n_jobs=None, normalize=False)"
            ]
          },
          "metadata": {
            "tags": []
          },
          "execution_count": 49
        }
      ]
    },
    {
      "cell_type": "code",
      "metadata": {
        "id": "cHvxUm6R0ZTu",
        "colab_type": "code",
        "colab": {}
      },
      "source": [
        "pred=clf.predict(Xtest)"
      ],
      "execution_count": 0,
      "outputs": []
    },
    {
      "cell_type": "code",
      "metadata": {
        "id": "W6787tiI7FgK",
        "colab_type": "code",
        "outputId": "d01d9cc8-6b9b-44dd-a729-65f074ec17ee",
        "colab": {
          "base_uri": "https://localhost:8080/",
          "height": 228
        }
      },
      "source": [
        "pred"
      ],
      "execution_count": 51,
      "outputs": [
        {
          "output_type": "execute_result",
          "data": {
            "text/plain": [
              "array([  435.90235596, 17754.93369032,   313.70454297,   413.57714461,\n",
              "         365.86366394,   316.0787027 ,   505.54183117,   421.59723679,\n",
              "         311.17438963,   315.77774519,   595.49047614,   230.33086809,\n",
              "         449.15789298,   825.13213645,   500.35481699,   586.09246867,\n",
              "         347.69958857,   506.06376636,   302.17770934,   518.13858828,\n",
              "         369.94270187,   433.04806806,   402.14047772,   785.25228501,\n",
              "         319.93753213,   848.53002877,   284.99050453,   551.16780492,\n",
              "         703.60662705,   371.94394295,   296.9661196 ,   412.88819783,\n",
              "         316.71045132,   435.17740403,   472.88215203,   567.94143296,\n",
              "         397.76412919,   452.87205363,   447.48815242,   433.64183044,\n",
              "         502.14714086,   256.19425596,   416.75968382,   390.01130002,\n",
              "         549.29657999,   502.74648652,   475.32961263])"
            ]
          },
          "metadata": {
            "tags": []
          },
          "execution_count": 51
        }
      ]
    },
    {
      "cell_type": "code",
      "metadata": {
        "id": "Qave6eBr4t_V",
        "colab_type": "code",
        "colab": {}
      },
      "source": [
        "from sklearn.ensemble import GradientBoostingRegressor\n",
        "GBR = GradientBoostingRegressor(n_estimators=100, max_depth=4)"
      ],
      "execution_count": 0,
      "outputs": []
    },
    {
      "cell_type": "code",
      "metadata": {
        "id": "6CQSieBE6K1s",
        "colab_type": "code",
        "outputId": "48a7e86b-0881-47d1-e961-40ab5b1e08f1",
        "colab": {
          "base_uri": "https://localhost:8080/",
          "height": 175
        }
      },
      "source": [
        "GBR.fit(Xtrain, ytrain)"
      ],
      "execution_count": 53,
      "outputs": [
        {
          "output_type": "execute_result",
          "data": {
            "text/plain": [
              "GradientBoostingRegressor(alpha=0.9, ccp_alpha=0.0, criterion='friedman_mse',\n",
              "                          init=None, learning_rate=0.1, loss='ls', max_depth=4,\n",
              "                          max_features=None, max_leaf_nodes=None,\n",
              "                          min_impurity_decrease=0.0, min_impurity_split=None,\n",
              "                          min_samples_leaf=1, min_samples_split=2,\n",
              "                          min_weight_fraction_leaf=0.0, n_estimators=100,\n",
              "                          n_iter_no_change=None, presort='deprecated',\n",
              "                          random_state=None, subsample=1.0, tol=0.0001,\n",
              "                          validation_fraction=0.1, verbose=0, warm_start=False)"
            ]
          },
          "metadata": {
            "tags": []
          },
          "execution_count": 53
        }
      ]
    },
    {
      "cell_type": "code",
      "metadata": {
        "id": "jWzJ8mxm6QGZ",
        "colab_type": "code",
        "outputId": "f6ad8fce-a4ff-4bb8-a48f-07fcd295f4cd",
        "colab": {
          "base_uri": "https://localhost:8080/",
          "height": 34
        }
      },
      "source": [
        "print(\"Accuracy --> \", GBR.score(Xtrain, ytrain)*100)"
      ],
      "execution_count": 54,
      "outputs": [
        {
          "output_type": "stream",
          "text": [
            "Accuracy -->  98.28193962942264\n"
          ],
          "name": "stdout"
        }
      ]
    },
    {
      "cell_type": "code",
      "metadata": {
        "id": "E0dZ6k0N9Nev",
        "colab_type": "code",
        "colab": {}
      },
      "source": [
        "from sklearn.decomposition import PCA\n",
        "pca = PCA(n_components=6)\n",
        "pca.fit(data)\n",
        "pca_samples = pca.transform(data)"
      ],
      "execution_count": 0,
      "outputs": []
    },
    {
      "cell_type": "code",
      "metadata": {
        "id": "hkTkeH9yEEM4",
        "colab_type": "code",
        "colab": {
          "base_uri": "https://localhost:8080/",
          "height": 195
        },
        "outputId": "26a70ba5-5d6e-460c-bb87-203cb6588adf"
      },
      "source": [
        "ps = pd.DataFrame(pca_samples)\n",
        "ps.head()"
      ],
      "execution_count": 57,
      "outputs": [
        {
          "output_type": "execute_result",
          "data": {
            "text/html": [
              "<div>\n",
              "<style scoped>\n",
              "    .dataframe tbody tr th:only-of-type {\n",
              "        vertical-align: middle;\n",
              "    }\n",
              "\n",
              "    .dataframe tbody tr th {\n",
              "        vertical-align: top;\n",
              "    }\n",
              "\n",
              "    .dataframe thead th {\n",
              "        text-align: right;\n",
              "    }\n",
              "</style>\n",
              "<table border=\"1\" class=\"dataframe\">\n",
              "  <thead>\n",
              "    <tr style=\"text-align: right;\">\n",
              "      <th></th>\n",
              "      <th>0</th>\n",
              "      <th>1</th>\n",
              "      <th>2</th>\n",
              "      <th>3</th>\n",
              "      <th>4</th>\n",
              "      <th>5</th>\n",
              "    </tr>\n",
              "  </thead>\n",
              "  <tbody>\n",
              "    <tr>\n",
              "      <th>0</th>\n",
              "      <td>-30.445421</td>\n",
              "      <td>-2.159222</td>\n",
              "      <td>-1.450850</td>\n",
              "      <td>1.143616</td>\n",
              "      <td>-0.948405</td>\n",
              "      <td>-0.224224</td>\n",
              "    </tr>\n",
              "    <tr>\n",
              "      <th>1</th>\n",
              "      <td>33.574631</td>\n",
              "      <td>-0.619668</td>\n",
              "      <td>3.816486</td>\n",
              "      <td>3.404744</td>\n",
              "      <td>-0.815394</td>\n",
              "      <td>-0.961443</td>\n",
              "    </tr>\n",
              "    <tr>\n",
              "      <th>2</th>\n",
              "      <td>58.555935</td>\n",
              "      <td>-0.451904</td>\n",
              "      <td>-0.480949</td>\n",
              "      <td>0.523394</td>\n",
              "      <td>-2.060592</td>\n",
              "      <td>-0.679216</td>\n",
              "    </tr>\n",
              "    <tr>\n",
              "      <th>3</th>\n",
              "      <td>65.572103</td>\n",
              "      <td>0.161828</td>\n",
              "      <td>0.825721</td>\n",
              "      <td>1.356008</td>\n",
              "      <td>0.934703</td>\n",
              "      <td>-0.218455</td>\n",
              "    </tr>\n",
              "    <tr>\n",
              "      <th>4</th>\n",
              "      <td>-32.435777</td>\n",
              "      <td>0.390809</td>\n",
              "      <td>-0.091756</td>\n",
              "      <td>-1.344071</td>\n",
              "      <td>-0.093159</td>\n",
              "      <td>0.350147</td>\n",
              "    </tr>\n",
              "  </tbody>\n",
              "</table>\n",
              "</div>"
            ],
            "text/plain": [
              "           0         1         2         3         4         5\n",
              "0 -30.445421 -2.159222 -1.450850  1.143616 -0.948405 -0.224224\n",
              "1  33.574631 -0.619668  3.816486  3.404744 -0.815394 -0.961443\n",
              "2  58.555935 -0.451904 -0.480949  0.523394 -2.060592 -0.679216\n",
              "3  65.572103  0.161828  0.825721  1.356008  0.934703 -0.218455\n",
              "4 -32.435777  0.390809 -0.091756 -1.344071 -0.093159  0.350147"
            ]
          },
          "metadata": {
            "tags": []
          },
          "execution_count": 57
        }
      ]
    },
    {
      "cell_type": "code",
      "metadata": {
        "id": "jNo9kDxcEI2y",
        "colab_type": "code",
        "colab": {
          "base_uri": "https://localhost:8080/",
          "height": 624
        },
        "outputId": "579fcb19-ff47-4deb-dfa1-48766ce3ee1b"
      },
      "source": [
        "from matplotlib import pyplot as plt\n",
        "from mpl_toolkits.mplot3d import Axes3D\n",
        "from mpl_toolkits.mplot3d import proj3d\n",
        "tocluster = pd.DataFrame(ps[[4,1]])\n",
        "print (tocluster.shape)\n",
        "print (tocluster.head())\n",
        "\n",
        "fig = plt.figure(figsize=(8,8))\n",
        "plt.plot(tocluster[4], tocluster[1], 'o', markersize=2, color='blue', alpha=0.5, label='class1')\n",
        "\n",
        "plt.xlabel('x_values')\n",
        "plt.ylabel('y_values')\n",
        "plt.legend()\n",
        "plt.show()"
      ],
      "execution_count": 58,
      "outputs": [
        {
          "output_type": "stream",
          "text": [
            "(154, 2)\n",
            "          4         1\n",
            "0 -0.948405 -2.159222\n",
            "1 -0.815394 -0.619668\n",
            "2 -2.060592 -0.451904\n",
            "3  0.934703  0.161828\n",
            "4 -0.093159  0.390809\n"
          ],
          "name": "stdout"
        },
        {
          "output_type": "display_data",
          "data": {
            "image/png": "[encoded data removed]",
            "text/plain": [
              "<Figure size 576x576 with 1 Axes>"
            ]
          },
          "metadata": {
            "tags": []
          }
        }
      ]
    },
    {
      "cell_type": "code",
      "metadata": {
        "id": "MUVxNmB6FEGU",
        "colab_type": "code",
        "colab": {
          "base_uri": "https://localhost:8080/",
          "height": 87
        },
        "outputId": "3db64cea-8d00-4180-a92d-2558a7c4493f"
      },
      "source": [
        "from sklearn.cluster import KMeans\n",
        "from sklearn.metrics import silhouette_score\n",
        "\n",
        "clusterer = KMeans(n_clusters=4,random_state=42).fit(tocluster)\n",
        "centers = clusterer.cluster_centers_\n",
        "c_preds = clusterer.predict(tocluster)\n",
        "print(centers)"
      ],
      "execution_count": 59,
      "outputs": [
        {
          "output_type": "stream",
          "text": [
            "[[-0.17767177  3.42949341]\n",
            " [ 1.01803498 -1.033148  ]\n",
            " [ 0.07845468  0.44192103]\n",
            " [-0.63919402 -1.60794349]]\n"
          ],
          "name": "stdout"
        }
      ]
    },
    {
      "cell_type": "code",
      "metadata": {
        "id": "Wpiv77YdFRNj",
        "colab_type": "code",
        "colab": {
          "base_uri": "https://localhost:8080/",
          "height": 70
        },
        "outputId": "1f36a5a4-0284-49b9-d3cd-e9845d46264e"
      },
      "source": [
        "print (c_preds[0:100])"
      ],
      "execution_count": 60,
      "outputs": [
        {
          "output_type": "stream",
          "text": [
            "[3 3 3 2 2 3 2 2 0 0 2 1 2 3 3 2 1 3 1 2 3 3 3 3 2 1 1 3 3 1 1 1 0 3 0 2 1\n",
            " 3 3 3 3 2 3 3 2 1 0 3 2 3 2 1 2 2 1 2 2 0 1 2 1 1 2 1 3 0 3 3 2 0 0 3 2 0\n",
            " 2 3 2 0 0 2 3 1 0 2 2 1 0 3 0 3 2 3 3 2 0 1 0 2 3 3]\n"
          ],
          "name": "stdout"
        }
      ]
    },
    {
      "cell_type": "code",
      "metadata": {
        "id": "vp7k7KJ4FUTc",
        "colab_type": "code",
        "colab": {
          "base_uri": "https://localhost:8080/",
          "height": 518
        },
        "outputId": "26be8765-1e40-43b7-f874-9292979a5d1c"
      },
      "source": [
        "import matplotlib\n",
        "fig = plt.figure(figsize=(8,8))\n",
        "colors = ['orange','blue','purple','green']\n",
        "colored = [colors[k] for k in c_preds]\n",
        "print (colored[0:10])\n",
        "plt.scatter(tocluster[4],tocluster[1],  color = colored)\n",
        "for ci,c in enumerate(centers):\n",
        "    plt.plot(c[0], c[1], 'o', markersize=8, color='red', alpha=0.9, label=''+str(ci))\n",
        "\n",
        "plt.xlabel('x_values')\n",
        "plt.ylabel('y_values')\n",
        "plt.legend()\n",
        "plt.show()"
      ],
      "execution_count": 61,
      "outputs": [
        {
          "output_type": "stream",
          "text": [
            "['green', 'green', 'green', 'purple', 'purple', 'green', 'purple', 'purple', 'orange', 'orange']\n"
          ],
          "name": "stdout"
        },
        {
          "output_type": "display_data",
          "data": {
            "image/png": "[encoded data removed]",
            "text/plain": [
              "<Figure size 576x576 with 1 Axes>"
            ]
          },
          "metadata": {
            "tags": []
          }
        }
      ]
    },
    {
      "cell_type": "code",
      "metadata": {
        "id": "Mzedla1eHGaL",
        "colab_type": "code",
        "colab": {}
      },
      "source": [
        ""
      ],
      "execution_count": 0,
      "outputs": []
    }
  ]
}